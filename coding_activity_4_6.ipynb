{
 "cells": [
  {
   "cell_type": "markdown",
   "metadata": {
    "id": "ftL6hwfQ445V",
    "nbgrader": {
     "grade": false,
     "grade_id": "cell-d35f168a30809db9",
     "locked": true,
     "schema_version": 1,
     "solution": false
    }
   },
   "source": [
    "### Codio Activity 4.6: Data Cleaning\n",
    "\n",
    "**Expected Time: 120 Minutes**\n",
    "\n",
    "**Total Points: 40**\n",
    "\n",
    "This assignment focuses on making decisions with a somewhat dirty dataset.  From datatype conversion, to object removal and cleaning, to missing value handling, cleaning data will be a regular activity while working with data in the wild.  The dataset comes from kaggle [here](https://www.kaggle.com/shansh8/companies-info-wikipedia-2021), and represents information on businesses pulled from [dbpedia](http://dbpedia.org) pertaining to business indicators from a variety of international companies.\n",
    "\n",
    "\n",
    "#### Index:\n",
    "\n",
    "- [Problem 1](#Problem-1)\n",
    "- [Problem 2](#Problem-2)\n",
    "- [Problem 3](#Problem-3)\n",
    "- [Problem 4](#Problem-4)\n",
    "- [Problem 5](#Problem-5)\n",
    "- [Problem 6](#Problem-6)\n",
    "- [Problem 7](#Problem-7)\n",
    "- [Problem 8](#Problem-8)\n",
    "- [Problem 9](#Problem-9)\n",
    "\n",
    "\n",
    "![](images/dbpedia.png)"
   ]
  },
  {
   "cell_type": "markdown",
   "metadata": {
    "id": "vdAbQOh8445Y",
    "nbgrader": {
     "grade": false,
     "grade_id": "cell-8e421dff8fd70bf6",
     "locked": true,
     "schema_version": 1,
     "solution": false
    }
   },
   "source": [
    "### Load and Explore the Data"
   ]
  },
  {
   "cell_type": "code",
   "execution_count": 2,
   "metadata": {
    "id": "juT1hNzn445Y",
    "nbgrader": {
     "grade": false,
     "grade_id": "cell-52ebd3b716455a24",
     "locked": true,
     "schema_version": 1,
     "solution": false
    }
   },
   "outputs": [],
   "source": [
    "import pandas as pd\n",
    "import numpy as np\n",
    "import matplotlib.pyplot as plt\n",
    "import seaborn as sns\n",
    "import plotly.express as px"
   ]
  },
  {
   "cell_type": "code",
   "execution_count": 3,
   "metadata": {
    "id": "zMNMtwpq445Z",
    "nbgrader": {
     "grade": false,
     "grade_id": "cell-383a235c8c985da7",
     "locked": true,
     "schema_version": 1,
     "solution": false
    }
   },
   "outputs": [],
   "source": [
    "df = pd.read_csv('/Users/jaikumar/Desktop/Berkeley_ML/codio_4.5_solution/data/biz.zip', compression = 'zip')"
   ]
  },
  {
   "cell_type": "code",
   "execution_count": 4,
   "metadata": {
    "id": "axBGcumv445Z",
    "nbgrader": {
     "grade": false,
     "grade_id": "cell-742213f8754d3374",
     "locked": true,
     "schema_version": 1,
     "solution": false
    },
    "outputId": "e7efeb47-8ccd-4360-9cf5-a57c86d865e5"
   },
   "outputs": [
    {
     "data": {
      "text/html": [
       "<div>\n",
       "<style scoped>\n",
       "    .dataframe tbody tr th:only-of-type {\n",
       "        vertical-align: middle;\n",
       "    }\n",
       "\n",
       "    .dataframe tbody tr th {\n",
       "        vertical-align: top;\n",
       "    }\n",
       "\n",
       "    .dataframe thead th {\n",
       "        text-align: right;\n",
       "    }\n",
       "</style>\n",
       "<table border=\"1\" class=\"dataframe\">\n",
       "  <thead>\n",
       "    <tr style=\"text-align: right;\">\n",
       "      <th></th>\n",
       "      <th>a</th>\n",
       "      <th>name</th>\n",
       "      <th>type</th>\n",
       "      <th>foundation</th>\n",
       "      <th>location</th>\n",
       "      <th>products</th>\n",
       "      <th>sector</th>\n",
       "      <th>employee</th>\n",
       "      <th>assets</th>\n",
       "      <th>equity</th>\n",
       "      <th>revenue</th>\n",
       "      <th>profit</th>\n",
       "    </tr>\n",
       "  </thead>\n",
       "  <tbody>\n",
       "    <tr>\n",
       "      <th>0</th>\n",
       "      <td>http://dbpedia.org/resource/Deutsche_EuroShop</td>\n",
       "      <td>Deutsche EuroShop AG</td>\n",
       "      <td>http://dbpedia.org/resource/Aktiengesellschaft</td>\n",
       "      <td>1999</td>\n",
       "      <td>http://dbpedia.org/resource/Germany</td>\n",
       "      <td>Investment in shopping centers</td>\n",
       "      <td>http://dbpedia.org/resource/Real_property</td>\n",
       "      <td>4</td>\n",
       "      <td>2.96E+09</td>\n",
       "      <td>1.25E+09</td>\n",
       "      <td>2.24E+08</td>\n",
       "      <td>8.04E+07</td>\n",
       "    </tr>\n",
       "    <tr>\n",
       "      <th>1</th>\n",
       "      <td>http://dbpedia.org/resource/Deutsche_EuroShop</td>\n",
       "      <td>Deutsche EuroShop AG</td>\n",
       "      <td>http://dbpedia.org/resource/Aktiengesellschaft</td>\n",
       "      <td>1999</td>\n",
       "      <td>http://dbpedia.org/resource/Hamburg</td>\n",
       "      <td>Investment in shopping centers</td>\n",
       "      <td>http://dbpedia.org/resource/Real_property</td>\n",
       "      <td>4</td>\n",
       "      <td>2.96E+09</td>\n",
       "      <td>1.25E+09</td>\n",
       "      <td>2.24E+08</td>\n",
       "      <td>8.04E+07</td>\n",
       "    </tr>\n",
       "    <tr>\n",
       "      <th>2</th>\n",
       "      <td>http://dbpedia.org/resource/Industry_of_Machin...</td>\n",
       "      <td>Industry of Machinery and Tractors</td>\n",
       "      <td>http://dbpedia.org/resource/Društvo_sa_ogranič...</td>\n",
       "      <td>8/12/1996</td>\n",
       "      <td>http://dbpedia.org/resource/Belgrade</td>\n",
       "      <td>http://dbpedia.org/resource/Tractors</td>\n",
       "      <td>http://dbpedia.org/resource/Agribusiness</td>\n",
       "      <td>4</td>\n",
       "      <td>4.65E+07</td>\n",
       "      <td>0</td>\n",
       "      <td>30000</td>\n",
       "      <td>-€0.47 million</td>\n",
       "    </tr>\n",
       "    <tr>\n",
       "      <th>3</th>\n",
       "      <td>http://dbpedia.org/resource/Industry_of_Machin...</td>\n",
       "      <td>Industry of Machinery and Tractors</td>\n",
       "      <td>http://dbpedia.org/resource/Društvo_sa_ogranič...</td>\n",
       "      <td>8/12/1996</td>\n",
       "      <td>http://dbpedia.org/resource/Serbia</td>\n",
       "      <td>http://dbpedia.org/resource/Agricultural_machi...</td>\n",
       "      <td>http://dbpedia.org/resource/Agribusiness</td>\n",
       "      <td>4</td>\n",
       "      <td>4.65E+07</td>\n",
       "      <td>0</td>\n",
       "      <td>30000</td>\n",
       "      <td>-€0.47 million</td>\n",
       "    </tr>\n",
       "    <tr>\n",
       "      <th>4</th>\n",
       "      <td>http://dbpedia.org/resource/Industry_of_Machin...</td>\n",
       "      <td>Industry of Machinery and Tractors</td>\n",
       "      <td>http://dbpedia.org/resource/Društvo_sa_ogranič...</td>\n",
       "      <td>8/12/1996</td>\n",
       "      <td>http://dbpedia.org/resource/Belgrade</td>\n",
       "      <td>http://dbpedia.org/resource/Agricultural_machi...</td>\n",
       "      <td>http://dbpedia.org/resource/Agribusiness</td>\n",
       "      <td>4</td>\n",
       "      <td>4.65E+07</td>\n",
       "      <td>0</td>\n",
       "      <td>30000</td>\n",
       "      <td>-€0.47 million</td>\n",
       "    </tr>\n",
       "  </tbody>\n",
       "</table>\n",
       "</div>"
      ],
      "text/plain": [
       "                                                   a  \\\n",
       "0      http://dbpedia.org/resource/Deutsche_EuroShop   \n",
       "1      http://dbpedia.org/resource/Deutsche_EuroShop   \n",
       "2  http://dbpedia.org/resource/Industry_of_Machin...   \n",
       "3  http://dbpedia.org/resource/Industry_of_Machin...   \n",
       "4  http://dbpedia.org/resource/Industry_of_Machin...   \n",
       "\n",
       "                                 name  \\\n",
       "0                Deutsche EuroShop AG   \n",
       "1                Deutsche EuroShop AG   \n",
       "2  Industry of Machinery and Tractors   \n",
       "3  Industry of Machinery and Tractors   \n",
       "4  Industry of Machinery and Tractors   \n",
       "\n",
       "                                                type foundation  \\\n",
       "0     http://dbpedia.org/resource/Aktiengesellschaft       1999   \n",
       "1     http://dbpedia.org/resource/Aktiengesellschaft       1999   \n",
       "2  http://dbpedia.org/resource/Društvo_sa_ogranič...  8/12/1996   \n",
       "3  http://dbpedia.org/resource/Društvo_sa_ogranič...  8/12/1996   \n",
       "4  http://dbpedia.org/resource/Društvo_sa_ogranič...  8/12/1996   \n",
       "\n",
       "                               location  \\\n",
       "0   http://dbpedia.org/resource/Germany   \n",
       "1   http://dbpedia.org/resource/Hamburg   \n",
       "2  http://dbpedia.org/resource/Belgrade   \n",
       "3    http://dbpedia.org/resource/Serbia   \n",
       "4  http://dbpedia.org/resource/Belgrade   \n",
       "\n",
       "                                            products  \\\n",
       "0                     Investment in shopping centers   \n",
       "1                     Investment in shopping centers   \n",
       "2               http://dbpedia.org/resource/Tractors   \n",
       "3  http://dbpedia.org/resource/Agricultural_machi...   \n",
       "4  http://dbpedia.org/resource/Agricultural_machi...   \n",
       "\n",
       "                                      sector  employee    assets    equity  \\\n",
       "0  http://dbpedia.org/resource/Real_property         4  2.96E+09  1.25E+09   \n",
       "1  http://dbpedia.org/resource/Real_property         4  2.96E+09  1.25E+09   \n",
       "2   http://dbpedia.org/resource/Agribusiness         4  4.65E+07         0   \n",
       "3   http://dbpedia.org/resource/Agribusiness         4  4.65E+07         0   \n",
       "4   http://dbpedia.org/resource/Agribusiness         4  4.65E+07         0   \n",
       "\n",
       "    revenue          profit  \n",
       "0  2.24E+08        8.04E+07  \n",
       "1  2.24E+08        8.04E+07  \n",
       "2     30000  -€0.47 million  \n",
       "3     30000  -€0.47 million  \n",
       "4     30000  -€0.47 million  "
      ]
     },
     "execution_count": 4,
     "metadata": {},
     "output_type": "execute_result"
    }
   ],
   "source": [
    "df.head()"
   ]
  },
  {
   "cell_type": "code",
   "execution_count": 5,
   "metadata": {
    "id": "fFQfeeKZ445a",
    "nbgrader": {
     "grade": false,
     "grade_id": "cell-09e0d00249bee5f9",
     "locked": true,
     "schema_version": 1,
     "solution": false
    },
    "outputId": "0d5241ff-31df-486c-c874-6b228344da27"
   },
   "outputs": [
    {
     "name": "stdout",
     "output_type": "stream",
     "text": [
      "<class 'pandas.core.frame.DataFrame'>\n",
      "RangeIndex: 10000 entries, 0 to 9999\n",
      "Data columns (total 12 columns):\n",
      " #   Column      Non-Null Count  Dtype \n",
      "---  ------      --------------  ----- \n",
      " 0   a           10000 non-null  object\n",
      " 1   name        9969 non-null   object\n",
      " 2   type        10000 non-null  object\n",
      " 3   foundation  9665 non-null   object\n",
      " 4   location    9936 non-null   object\n",
      " 5   products    9014 non-null   object\n",
      " 6   sector      10000 non-null  object\n",
      " 7   employee    10000 non-null  int64 \n",
      " 8   assets      7103 non-null   object\n",
      " 9   equity      7124 non-null   object\n",
      " 10  revenue     6943 non-null   object\n",
      " 11  profit      7107 non-null   object\n",
      "dtypes: int64(1), object(11)\n",
      "memory usage: 937.6+ KB\n"
     ]
    }
   ],
   "source": [
    "df.info()"
   ]
  },
  {
   "cell_type": "code",
   "execution_count": 22,
   "metadata": {},
   "outputs": [
    {
     "data": {
      "text/plain": [
       "10000"
      ]
     },
     "execution_count": 22,
     "metadata": {},
     "output_type": "execute_result"
    }
   ],
   "source": [
    "df.shape[0]"
   ]
  },
  {
   "cell_type": "markdown",
   "metadata": {
    "id": "6HE8r17q445b",
    "nbgrader": {
     "grade": false,
     "grade_id": "cell-8c48a87f34a7596d",
     "locked": true,
     "schema_version": 1,
     "solution": false
    }
   },
   "source": [
    "[Back to top](#Index:) \n",
    "\n",
    "### Problem 1\n",
    "\n",
    "#### Plot of Missing Data\n",
    "\n",
    "**0 Points**\n",
    "\n",
    "Create a barplot using `matplotlib` with the $x$-axis representing the columns and the $y$-axis representing the count of missing values. Sort these values from least to greatest.  Create a `results` folder in the file tree to the left of your screen and save your plot as `missing_plot.png`.  "
   ]
  },
  {
   "cell_type": "code",
   "execution_count": 7,
   "metadata": {
    "id": "Dc1MaCKq445b",
    "nbgrader": {
     "grade": false,
     "grade_id": "cell-4a1c203b45b55c66",
     "locked": false,
     "schema_version": 1,
     "solution": true
    }
   },
   "outputs": [
    {
     "data": {
      "image/png": "[encoded data removed]",
      "text/plain": [
       "<Figure size 640x480 with 1 Axes>"
      ]
     },
     "metadata": {},
     "output_type": "display_data"
    }
   ],
   "source": [
    "### GRADED\n",
    "\n",
    "### BEGIN SOLUTION\n",
    "df.isnull().sum().sort_values().plot(kind = 'bar')\n",
    "#plt.savefig('results/missing_plot_.png')\n",
    "#plt.close();\n",
    "plt.show()\n",
    "### END SOLUTION"
   ]
  },
  {
   "cell_type": "code",
   "execution_count": 8,
   "metadata": {},
   "outputs": [
    {
     "data": {
      "image/png": "[encoded data removed]",
      "text/plain": [
       "<Figure size 1000x800 with 1 Axes>"
      ]
     },
     "metadata": {},
     "output_type": "display_data"
    }
   ],
   "source": [
    "missing_counts = df.isnull().sum()\n",
    "\n",
    "# 2. Sort the counts\n",
    "sorted_counts = missing_counts.sort_values()\n",
    "\n",
    "# 3. Create the bar plot\n",
    "plt.figure(figsize=(10, 8))\n",
    "sorted_counts.plot(kind='bar')\n",
    "plt.xlabel('Columns')\n",
    "plt.ylabel('Count of Missing Values')\n",
    "plt.title('Count of Missing Values per Column')\n",
    "\n",
    "# 4. Save the plot\n",
    "#plt.savefig('results/missing_plot.png')\n",
    "plt.show()"
   ]
  },
  {
   "cell_type": "markdown",
   "metadata": {
    "id": "bIp_Q0wc445c",
    "nbgrader": {
     "grade": false,
     "grade_id": "cell-1d2de21ba2fc0b56",
     "locked": true,
     "schema_version": 1,
     "solution": false
    }
   },
   "source": [
    "[Back to top](#Index:) \n",
    "\n",
    "### Problem 2\n",
    "\n",
    "#### `name` column\n",
    "\n",
    "**5 Points**\n",
    "\n",
    "Thirty One values in the `name` column are missing.  Subset the data to examine these observations where name is missing. Assign the observations missing `name` data as a DataFrame to `ans2` below.  "
   ]
  },
  {
   "cell_type": "code",
   "execution_count": 11,
   "metadata": {
    "id": "wsNRjtqL445d",
    "nbgrader": {
     "grade": false,
     "grade_id": "cell-09db2b6255b26325",
     "locked": false,
     "schema_version": 1,
     "solution": true
    },
    "outputId": "3103cc6e-7e14-4fba-fab2-55655e4bc521"
   },
   "outputs": [
    {
     "name": "stdout",
     "output_type": "stream",
     "text": [
      "                                                      a name  \\\n",
      "3906    http://dbpedia.org/resource/Royal_Canadian_Mint  NaN   \n",
      "3909    http://dbpedia.org/resource/Royal_Canadian_Mint  NaN   \n",
      "4861     http://dbpedia.org/resource/Bulgarian_Postbank  NaN   \n",
      "4862     http://dbpedia.org/resource/Bulgarian_Postbank  NaN   \n",
      "4863     http://dbpedia.org/resource/Bulgarian_Postbank  NaN   \n",
      "4864     http://dbpedia.org/resource/Bulgarian_Postbank  NaN   \n",
      "4865     http://dbpedia.org/resource/Bulgarian_Postbank  NaN   \n",
      "4866     http://dbpedia.org/resource/Bulgarian_Postbank  NaN   \n",
      "4879     http://dbpedia.org/resource/Bulgarian_Postbank  NaN   \n",
      "4880     http://dbpedia.org/resource/Bulgarian_Postbank  NaN   \n",
      "4881     http://dbpedia.org/resource/Bulgarian_Postbank  NaN   \n",
      "4882     http://dbpedia.org/resource/Bulgarian_Postbank  NaN   \n",
      "4883     http://dbpedia.org/resource/Bulgarian_Postbank  NaN   \n",
      "4884     http://dbpedia.org/resource/Bulgarian_Postbank  NaN   \n",
      "6502  http://dbpedia.org/resource/FirstMerit_Corpora...  NaN   \n",
      "6503  http://dbpedia.org/resource/FirstMerit_Corpora...  NaN   \n",
      "6504  http://dbpedia.org/resource/FirstMerit_Corpora...  NaN   \n",
      "6505  http://dbpedia.org/resource/FirstMerit_Corpora...  NaN   \n",
      "6506  http://dbpedia.org/resource/FirstMerit_Corpora...  NaN   \n",
      "6507  http://dbpedia.org/resource/FirstMerit_Corpora...  NaN   \n",
      "6508  http://dbpedia.org/resource/FirstMerit_Corpora...  NaN   \n",
      "6509  http://dbpedia.org/resource/FirstMerit_Corpora...  NaN   \n",
      "6510  http://dbpedia.org/resource/FirstMerit_Corpora...  NaN   \n",
      "6511  http://dbpedia.org/resource/FirstMerit_Corpora...  NaN   \n",
      "6512  http://dbpedia.org/resource/FirstMerit_Corpora...  NaN   \n",
      "6513  http://dbpedia.org/resource/FirstMerit_Corpora...  NaN   \n",
      "6514  http://dbpedia.org/resource/FirstMerit_Corpora...  NaN   \n",
      "6515  http://dbpedia.org/resource/FirstMerit_Corpora...  NaN   \n",
      "6516  http://dbpedia.org/resource/FirstMerit_Corpora...  NaN   \n",
      "8317   http://dbpedia.org/resource/Coventry_Health_Care  NaN   \n",
      "8318   http://dbpedia.org/resource/Coventry_Health_Care  NaN   \n",
      "\n",
      "                                                   type foundation  \\\n",
      "3906  http://dbpedia.org/resource/Crown_corporations...   1/2/1908   \n",
      "3909  http://dbpedia.org/resource/Crown_corporations...   1/2/1908   \n",
      "4861        http://dbpedia.org/resource/Commercial_bank       1991   \n",
      "4862        http://dbpedia.org/resource/Commercial_bank       1991   \n",
      "4863        http://dbpedia.org/resource/Commercial_bank       1991   \n",
      "4864        http://dbpedia.org/resource/Commercial_bank       1991   \n",
      "4865        http://dbpedia.org/resource/Commercial_bank       1991   \n",
      "4866        http://dbpedia.org/resource/Commercial_bank       1991   \n",
      "4879        http://dbpedia.org/resource/Commercial_bank       1991   \n",
      "4880        http://dbpedia.org/resource/Commercial_bank       1991   \n",
      "4881        http://dbpedia.org/resource/Commercial_bank       1991   \n",
      "4882        http://dbpedia.org/resource/Commercial_bank       1991   \n",
      "4883        http://dbpedia.org/resource/Commercial_bank       1991   \n",
      "4884        http://dbpedia.org/resource/Commercial_bank       1991   \n",
      "6502         http://dbpedia.org/resource/Public_company       1845   \n",
      "6503         http://dbpedia.org/resource/Public_company       1845   \n",
      "6504         http://dbpedia.org/resource/Public_company       1845   \n",
      "6505         http://dbpedia.org/resource/Public_company       1845   \n",
      "6506         http://dbpedia.org/resource/Public_company       1845   \n",
      "6507         http://dbpedia.org/resource/Public_company       1845   \n",
      "6508         http://dbpedia.org/resource/Public_company       1845   \n",
      "6509         http://dbpedia.org/resource/Public_company       1845   \n",
      "6510         http://dbpedia.org/resource/Public_company       1845   \n",
      "6511         http://dbpedia.org/resource/Public_company       1845   \n",
      "6512         http://dbpedia.org/resource/Public_company       1845   \n",
      "6513         http://dbpedia.org/resource/Public_company       1845   \n",
      "6514         http://dbpedia.org/resource/Public_company       1845   \n",
      "6515         http://dbpedia.org/resource/Public_company       1845   \n",
      "6516         http://dbpedia.org/resource/Public_company       1845   \n",
      "8317                                Subsidiary of Aetna       1997   \n",
      "8318                                Subsidiary of Aetna       1997   \n",
      "\n",
      "                                  location  \\\n",
      "3906                                   520   \n",
      "3909               Ottawa, Ontario, Canada   \n",
      "4861  http://dbpedia.org/resource/Bulgaria   \n",
      "4862  http://dbpedia.org/resource/Bulgaria   \n",
      "4863  http://dbpedia.org/resource/Bulgaria   \n",
      "4864  http://dbpedia.org/resource/Bulgaria   \n",
      "4865  http://dbpedia.org/resource/Bulgaria   \n",
      "4866  http://dbpedia.org/resource/Bulgaria   \n",
      "4879     http://dbpedia.org/resource/Sofia   \n",
      "4880     http://dbpedia.org/resource/Sofia   \n",
      "4881     http://dbpedia.org/resource/Sofia   \n",
      "4882     http://dbpedia.org/resource/Sofia   \n",
      "4883     http://dbpedia.org/resource/Sofia   \n",
      "4884     http://dbpedia.org/resource/Sofia   \n",
      "6502                                   106   \n",
      "6503                                   106   \n",
      "6504                                   106   \n",
      "6505                                   106   \n",
      "6506                                   106   \n",
      "6507                                   106   \n",
      "6508                                   106   \n",
      "6509                                   106   \n",
      "6510                                   106   \n",
      "6511                                   106   \n",
      "6512                                   106   \n",
      "6513                                   106   \n",
      "6514                                   106   \n",
      "6515                                   106   \n",
      "6516                                   106   \n",
      "8317              North Bethesda, Maryland   \n",
      "8318              North Bethesda, Maryland   \n",
      "\n",
      "                                             products  \\\n",
      "3906                http://dbpedia.org/resource/Coins   \n",
      "3909                http://dbpedia.org/resource/Coins   \n",
      "4861     http://dbpedia.org/resource/Asset_management   \n",
      "4862  http://dbpedia.org/resource/Factoring_(finance)   \n",
      "4863   http://dbpedia.org/resource/Investment_banking   \n",
      "4864       http://dbpedia.org/resource/Retail_banking   \n",
      "4865    http://dbpedia.org/resource/Corporate_banking   \n",
      "4866                                            Loans   \n",
      "4879     http://dbpedia.org/resource/Asset_management   \n",
      "4880  http://dbpedia.org/resource/Factoring_(finance)   \n",
      "4881   http://dbpedia.org/resource/Investment_banking   \n",
      "4882       http://dbpedia.org/resource/Retail_banking   \n",
      "4883    http://dbpedia.org/resource/Corporate_banking   \n",
      "4884                                            Loans   \n",
      "6502       http://dbpedia.org/resource/Retail_Banking   \n",
      "6503       http://dbpedia.org/resource/Retail_Banking   \n",
      "6504       http://dbpedia.org/resource/Retail_Banking   \n",
      "6505                                  Commercial bank   \n",
      "6506                                  Commercial bank   \n",
      "6507                                  Commercial bank   \n",
      "6508                                  Private Banking   \n",
      "6509                                  Private Banking   \n",
      "6510                                  Private Banking   \n",
      "6511                                      Credit Card   \n",
      "6512                                      Credit Card   \n",
      "6513                                      Credit Card   \n",
      "6514                                    Mortgage loan   \n",
      "6515                                    Mortgage loan   \n",
      "6516                                    Mortgage loan   \n",
      "8317                                Health Care Plans   \n",
      "8318                                Health Care Plans   \n",
      "\n",
      "                                              sector  employee    assets  \\\n",
      "3906     http://dbpedia.org/resource/Mint_(facility)      1280  4.44E+08   \n",
      "3909     http://dbpedia.org/resource/Mint_(facility)      1280  4.44E+08   \n",
      "4861  http://dbpedia.org/resource/Financial_services      3000  6.82E+09   \n",
      "4862  http://dbpedia.org/resource/Financial_services      3000  6.82E+09   \n",
      "4863  http://dbpedia.org/resource/Financial_services      3000  6.82E+09   \n",
      "4864  http://dbpedia.org/resource/Financial_services      3000  6.82E+09   \n",
      "4865  http://dbpedia.org/resource/Financial_services      3000  6.82E+09   \n",
      "4866  http://dbpedia.org/resource/Financial_services      3000  6.82E+09   \n",
      "4879  http://dbpedia.org/resource/Financial_services      3000  6.82E+09   \n",
      "4880  http://dbpedia.org/resource/Financial_services      3000  6.82E+09   \n",
      "4881  http://dbpedia.org/resource/Financial_services      3000  6.82E+09   \n",
      "4882  http://dbpedia.org/resource/Financial_services      3000  6.82E+09   \n",
      "4883  http://dbpedia.org/resource/Financial_services      3000  6.82E+09   \n",
      "4884  http://dbpedia.org/resource/Financial_services      3000  6.82E+09   \n",
      "6502                http://dbpedia.org/resource/Bank      4619  2.49E+10   \n",
      "6503          http://dbpedia.org/resource/Investment      4619  2.49E+10   \n",
      "6504  http://dbpedia.org/resource/Financial_services      4619  2.49E+10   \n",
      "6505                http://dbpedia.org/resource/Bank      4619  2.49E+10   \n",
      "6506          http://dbpedia.org/resource/Investment      4619  2.49E+10   \n",
      "6507  http://dbpedia.org/resource/Financial_services      4619  2.49E+10   \n",
      "6508                http://dbpedia.org/resource/Bank      4619  2.49E+10   \n",
      "6509          http://dbpedia.org/resource/Investment      4619  2.49E+10   \n",
      "6510  http://dbpedia.org/resource/Financial_services      4619  2.49E+10   \n",
      "6511                http://dbpedia.org/resource/Bank      4619  2.49E+10   \n",
      "6512          http://dbpedia.org/resource/Investment      4619  2.49E+10   \n",
      "6513  http://dbpedia.org/resource/Financial_services      4619  2.49E+10   \n",
      "6514                http://dbpedia.org/resource/Bank      4619  2.49E+10   \n",
      "6515          http://dbpedia.org/resource/Investment      4619  2.49E+10   \n",
      "6516  http://dbpedia.org/resource/Financial_services      4619  2.49E+10   \n",
      "8317    http://dbpedia.org/resource/Health_insurance     14400  8.75E+09   \n",
      "8318    http://dbpedia.org/resource/Health_insurance     14400  8.75E+09   \n",
      "\n",
      "        equity          revenue    profit  \n",
      "3906  1.85E+08  $2,641.4million  2.45E+07  \n",
      "3909  1.85E+08  $2,641.4million  2.45E+07  \n",
      "4861  1.15E+09         3.05E+08  1.20E+08  \n",
      "4862  1.15E+09         3.05E+08  1.20E+08  \n",
      "4863  1.15E+09         3.05E+08  1.20E+08  \n",
      "4864  1.15E+09         3.05E+08  1.20E+08  \n",
      "4865  1.15E+09         3.05E+08  1.20E+08  \n",
      "4866  1.15E+09         3.05E+08  1.20E+08  \n",
      "4879  1.15E+09         3.05E+08  1.20E+08  \n",
      "4880  1.15E+09         3.05E+08  1.20E+08  \n",
      "4881  1.15E+09         3.05E+08  1.20E+08  \n",
      "4882  1.15E+09         3.05E+08  1.20E+08  \n",
      "4883  1.15E+09         3.05E+08  1.20E+08  \n",
      "4884  1.15E+09         3.05E+08  1.20E+08  \n",
      "6502  2.80E+09         1.10E+09  2.37E+08  \n",
      "6503  2.80E+09         1.10E+09  2.37E+08  \n",
      "6504  2.80E+09         1.10E+09  2.37E+08  \n",
      "6505  2.80E+09         1.10E+09  2.37E+08  \n",
      "6506  2.80E+09         1.10E+09  2.37E+08  \n",
      "6507  2.80E+09         1.10E+09  2.37E+08  \n",
      "6508  2.80E+09         1.10E+09  2.37E+08  \n",
      "6509  2.80E+09         1.10E+09  2.37E+08  \n",
      "6510  2.80E+09         1.10E+09  2.37E+08  \n",
      "6511  2.80E+09         1.10E+09  2.37E+08  \n",
      "6512  2.80E+09         1.10E+09  2.37E+08  \n",
      "6513  2.80E+09         1.10E+09  2.37E+08  \n",
      "6514  2.80E+09         1.10E+09  2.37E+08  \n",
      "6515  2.80E+09         1.10E+09  2.37E+08  \n",
      "6516  2.80E+09         1.10E+09  2.37E+08  \n",
      "8317       NaN         1.41E+10  4.87E+08  \n",
      "8318  4.72E+09         1.41E+10  4.87E+08  \n"
     ]
    }
   ],
   "source": [
    "### GRADED\n",
    "\n",
    "ans2 = None\n",
    "\n",
    "### BEGIN SOLUTION\n",
    "#ans2 = df.loc[df['name'].isnull()]\n",
    "### END SOLUTION\n",
    "missing_name_data = df[df['name'].isna()]\n",
    "\n",
    "# Assign the result to ans2\n",
    "ans2 = missing_name_data\n",
    "\n",
    "# If you want to see the DataFrame\n",
    "print(ans2)\n",
    "# Answer check\n",
    "#print(type(ans2))\n",
    "#ans2.head()"
   ]
  },
  {
   "cell_type": "markdown",
   "metadata": {
    "id": "K6jzBJth445d",
    "nbgrader": {
     "grade": false,
     "grade_id": "cell-f1cdcdc93362810c",
     "locked": true,
     "schema_version": 1,
     "solution": false
    }
   },
   "source": [
    "[Back to top](#Index:) \n",
    "\n",
    "### Problem 3\n",
    "\n",
    "### Filling Missing Values in `name`\n",
    "\n",
    "**5 Points**\n",
    "\n",
    "Examining the rows missing values in names shows that in the adjacent `a` column, the end of the url contains what can stand in as a name.  Using a string method, split the url by `/`.  This generates a series object that you are to save to `split_series` below.  This series will be a collection of lists:\n",
    "\n",
    "```python\n",
    "0       [http:, , dbpedia.org, resource, Deutsche_Euro...\n",
    "1       [http:, , dbpedia.org, resource, Deutsche_Euro...\n",
    "2       [http:, , dbpedia.org, resource, Industry_of_M...\n",
    "3       [http:, , dbpedia.org, resource, Industry_of_M...\n",
    "4       [http:, , dbpedia.org, resource, Industry_of_M...\n",
    "         .\n",
    "         .\n",
    "         .\n",
    "```\n",
    "\n",
    "Assign your split url's as a series to `ans3` below."
   ]
  },
  {
   "cell_type": "code",
   "execution_count": 12,
   "metadata": {
    "id": "lRt2Lur3445e",
    "nbgrader": {
     "grade": false,
     "grade_id": "cell-09278d120062055b",
     "locked": false,
     "schema_version": 1,
     "solution": true
    },
    "outputId": "3f71a06f-a6e3-421f-c67f-1bfe27faaa94"
   },
   "outputs": [
    {
     "name": "stdout",
     "output_type": "stream",
     "text": [
      "<class 'pandas.core.series.Series'>\n"
     ]
    },
    {
     "data": {
      "text/plain": [
       "0    [http:, , dbpedia.org, resource, Deutsche_Euro...\n",
       "1    [http:, , dbpedia.org, resource, Deutsche_Euro...\n",
       "2    [http:, , dbpedia.org, resource, Industry_of_M...\n",
       "3    [http:, , dbpedia.org, resource, Industry_of_M...\n",
       "4    [http:, , dbpedia.org, resource, Industry_of_M...\n",
       "Name: a, dtype: object"
      ]
     },
     "execution_count": 12,
     "metadata": {},
     "output_type": "execute_result"
    }
   ],
   "source": [
    "### GRADED\n",
    "\n",
    "ans3 = None\n",
    "\n",
    "### BEGIN SOLUTION\n",
    "ans3 = df['a'].str.split('/')\n",
    "### END SOLUTION\n",
    "\n",
    "# Answer check\n",
    "print(type(ans3))\n",
    "ans3.head()"
   ]
  },
  {
   "cell_type": "markdown",
   "metadata": {
    "id": "HylsuIHk445e",
    "nbgrader": {
     "grade": false,
     "grade_id": "cell-0b5102477964152f",
     "locked": true,
     "schema_version": 1,
     "solution": false
    }
   },
   "source": [
    "[Back to top](#Index:) \n",
    "\n",
    "### Problem 4\n",
    "\n",
    "#### Extracting the names\n",
    "\n",
    "**5 Points**\n",
    "\n",
    "To extract the last element of this list, use the `.apply` method together with an appropriate `lambda` function to create a series based on the last entry of the above list in each row.  Your results should begin with:\n",
    "\n",
    "```python\n",
    "0                        Deutsche_EuroShop\n",
    "1                        Deutsche_EuroShop\n",
    "2       Industry_of_Machinery_and_Tractors\n",
    "3       Industry_of_Machinery_and_Tractors\n",
    "4       Industry_of_Machinery_and_Tractors\n",
    "                       ...                \n",
    "```\n",
    "\n",
    "Save this series to `ans4` below."
   ]
  },
  {
   "cell_type": "code",
   "execution_count": 13,
   "metadata": {
    "id": "Dm38dElx445f",
    "nbgrader": {
     "grade": false,
     "grade_id": "cell-f3bbb8754a7fc537",
     "locked": false,
     "schema_version": 1,
     "solution": true
    },
    "outputId": "2f2c0a11-7f49-4ca5-d789-2d6a4ef2bcb0"
   },
   "outputs": [
    {
     "name": "stdout",
     "output_type": "stream",
     "text": [
      "<class 'pandas.core.series.Series'>\n"
     ]
    },
    {
     "data": {
      "text/plain": [
       "0                     Deutsche_EuroShop\n",
       "1                     Deutsche_EuroShop\n",
       "2    Industry_of_Machinery_and_Tractors\n",
       "3    Industry_of_Machinery_and_Tractors\n",
       "4    Industry_of_Machinery_and_Tractors\n",
       "Name: a, dtype: object"
      ]
     },
     "execution_count": 13,
     "metadata": {},
     "output_type": "execute_result"
    }
   ],
   "source": [
    "### GRADED\n",
    "\n",
    "ans4 = None\n",
    "\n",
    "### BEGIN SOLUTION\n",
    "ans4 = df['a'].str.split('/').apply(lambda x: x[-1])\n",
    "### END SOLUTION\n",
    "\n",
    "# Answer check\n",
    "print(type(ans4))\n",
    "ans4.head()"
   ]
  },
  {
   "cell_type": "markdown",
   "metadata": {
    "id": "-nYdpsy5445f",
    "nbgrader": {
     "grade": false,
     "grade_id": "cell-61e4e375d6bc74a8",
     "locked": true,
     "schema_version": 1,
     "solution": false
    }
   },
   "source": [
    "[Back to top](#Index:) \n",
    "\n",
    "### Problem 5\n",
    "\n",
    "#### Filling the Missing Values in `name` \n",
    "\n",
    "**5 Points**\n",
    "\n",
    "The `.fillna` method can accept a series and fill in the missing values based on the matching indicies.  Use your earlier series with the extracted name (problem 4), to fill in the missing values in the `name` column.  Overwrite the earlier column and create a DataFrame with no missing values in the `name` column.  Assign this new DataFrame to `ans5` below."
   ]
  },
  {
   "cell_type": "code",
   "execution_count": 14,
   "metadata": {
    "id": "fKPb31Oj445f",
    "nbgrader": {
     "grade": false,
     "grade_id": "cell-1743f8282f8f8278",
     "locked": false,
     "schema_version": 1,
     "solution": true
    },
    "outputId": "abb95a51-0096-4fc4-8cc9-578fbd82737e"
   },
   "outputs": [
    {
     "name": "stdout",
     "output_type": "stream",
     "text": [
      "<class 'pandas.core.frame.DataFrame'>\n"
     ]
    },
    {
     "data": {
      "text/plain": [
       "0"
      ]
     },
     "execution_count": 14,
     "metadata": {},
     "output_type": "execute_result"
    }
   ],
   "source": [
    "### GRADED\n",
    "\n",
    "ans5 = None\n",
    "\n",
    "### BEGIN SOLUTION\n",
    "df['name'] = df['name'].fillna(df['a'].str.split('/').apply(lambda x: x[-1]))\n",
    "ans5 = df\n",
    "### END SOLUTION\n",
    "\n",
    "# Answer check\n",
    "print(type(ans5))\n",
    "ans5['name'].isnull().sum()"
   ]
  },
  {
   "cell_type": "markdown",
   "metadata": {
    "id": "vgJw9cp2445g",
    "nbgrader": {
     "grade": false,
     "grade_id": "cell-332360f9bd22c7e0",
     "locked": true,
     "schema_version": 1,
     "solution": false
    }
   },
   "source": [
    "[Back to top](#Index:) \n",
    "\n",
    "### Problem 6\n",
    "\n",
    "#### `location` missing values\n",
    "\n",
    "**5 Points**\n",
    "\n",
    "Note that the `location` column is still missing data.  The column is supposed to represent the location of the company as a url in `dbpedia` or in some cases simply the name of the city the company is located in.  Create a series of the value counts for the `foundation` column in rows where `location` is missing.  Assign these counts as a series to `ans6` below."
   ]
  },
  {
   "cell_type": "code",
   "execution_count": 15,
   "metadata": {
    "id": "zmRZLz1k445g",
    "nbgrader": {
     "grade": false,
     "grade_id": "cell-5be56f660973709a",
     "locked": false,
     "schema_version": 1,
     "solution": true
    },
    "outputId": "c2fde5a9-1d85-4b26-f627-a5fc91155829"
   },
   "outputs": [
    {
     "name": "stdout",
     "output_type": "stream",
     "text": [
      "<class 'pandas.core.series.Series'>\n"
     ]
    },
    {
     "data": {
      "text/plain": [
       "foundation\n",
       "4/8/1980                                   34\n",
       "Colombo, Sri Lanka                         12\n",
       "9/7/1933                                    6\n",
       "New Orleans, Louisiana, U.S.                3\n",
       "Canonsburg, Pennsylvania, United States     2\n",
       "Name: count, dtype: int64"
      ]
     },
     "execution_count": 15,
     "metadata": {},
     "output_type": "execute_result"
    }
   ],
   "source": [
    "### GRADED\n",
    "\n",
    "ans6 = None\n",
    "\n",
    "### BEGIN SOLUTION\n",
    "ans6 = df[df['location'].isnull()].foundation.value_counts()\n",
    "### END SOLUTION\n",
    "\n",
    "# Answer check\n",
    "print(type(ans6))\n",
    "ans6.head()"
   ]
  },
  {
   "cell_type": "markdown",
   "metadata": {
    "id": "NNbSFXyN445g",
    "nbgrader": {
     "grade": false,
     "grade_id": "cell-eae29813fda6f479",
     "locked": true,
     "schema_version": 1,
     "solution": false
    }
   },
   "source": [
    "[Back to top](#Index:) \n",
    "\n",
    "### Problem 7\n",
    "\n",
    "#### Replace missing `location` with `foundation`\n",
    "\n",
    "**5 Points**\n",
    "\n",
    "While not perfect, the values in the `foundation` column could serve as a fill in for the missing values in `location`.  Replace the missing values in `location` with their corresponding value in `foundation`.  Assign the series with the value filled for `location` to `ans7` below."
   ]
  },
  {
   "cell_type": "code",
   "execution_count": 16,
   "metadata": {
    "id": "0u8LqoR3445g",
    "nbgrader": {
     "grade": false,
     "grade_id": "cell-7720836cb0339eb6",
     "locked": false,
     "schema_version": 1,
     "solution": true
    },
    "outputId": "d718aad2-25fb-4443-942c-3425592d00a3"
   },
   "outputs": [
    {
     "name": "stdout",
     "output_type": "stream",
     "text": [
      "<class 'pandas.core.series.Series'>\n"
     ]
    },
    {
     "data": {
      "text/plain": [
       "0        http://dbpedia.org/resource/Germany\n",
       "1        http://dbpedia.org/resource/Hamburg\n",
       "2       http://dbpedia.org/resource/Belgrade\n",
       "3         http://dbpedia.org/resource/Serbia\n",
       "4       http://dbpedia.org/resource/Belgrade\n",
       "                        ...                 \n",
       "9995                     London, England, UK\n",
       "9996                     London, England, UK\n",
       "9997                     London, England, UK\n",
       "9998                     London, England, UK\n",
       "9999                     London, England, UK\n",
       "Name: location, Length: 10000, dtype: object"
      ]
     },
     "execution_count": 16,
     "metadata": {},
     "output_type": "execute_result"
    }
   ],
   "source": [
    "### GRADED\n",
    "\n",
    "ans7 = None\n",
    "\n",
    "### BEGIN SOLUTION\n",
    "ans7 = df['location'].fillna(df[df['location'].isnull()]['foundation'])\n",
    "### END SOLUTION\n",
    "\n",
    "# Answer check\n",
    "print(type(ans7))\n",
    "ans7"
   ]
  },
  {
   "cell_type": "markdown",
   "metadata": {
    "id": "JY7BdOVp445h",
    "nbgrader": {
     "grade": false,
     "grade_id": "cell-5edc9815da833045",
     "locked": true,
     "schema_version": 1,
     "solution": false
    }
   },
   "source": [
    "[Back to top](#Index:) \n",
    "\n",
    "### Problem 8\n",
    "\n",
    "#### Drop rows missing revenue and profit\n",
    "\n",
    "**5 Points**\n",
    "\n",
    "\n",
    "Note that the `revenue` and `profit` columns do not have all their values.  Subset the entire DataFrame to those rows not missing values in either `revenue` or `profit`.  Assign you answer as a DataFrame to `ans8` below."
   ]
  },
  {
   "cell_type": "code",
   "execution_count": 23,
   "metadata": {
    "id": "wU7H0h3j445h",
    "nbgrader": {
     "grade": false,
     "grade_id": "cell-9fd2e5625ce24264",
     "locked": false,
     "schema_version": 1,
     "solution": true
    },
    "outputId": "8aa59227-18e6-43ff-8f6a-7cc6500d9a2b"
   },
   "outputs": [
    {
     "name": "stdout",
     "output_type": "stream",
     "text": [
      "<class 'pandas.core.frame.DataFrame'>\n"
     ]
    },
    {
     "data": {
      "text/plain": [
       "5204"
      ]
     },
     "execution_count": 23,
     "metadata": {},
     "output_type": "execute_result"
    }
   ],
   "source": [
    "### GRADED\n",
    "\n",
    "ans8 = None\n",
    "\n",
    "### BEGIN SOLUTION\n",
    "#ans8 = df.dropna(subset = ['revenue', 'profit'])\n",
    "# Create a boolean mask for rows where both 'revenue' and 'profit' are not missing\n",
    "mask = df['revenue'].notna() & df['profit'].notna()\n",
    "\n",
    "# Apply the mask to subset the DataFrame\n",
    "ans8 = df[mask]\n",
    "\n",
    "# Display the DataFrame\n",
    "#print(ans8)\n",
    "### END SOLUTION\n",
    "\n",
    "# Answer check\n",
    "print(type(ans8))\n",
    "ans8.shape[0]"
   ]
  },
  {
   "cell_type": "markdown",
   "metadata": {
    "id": "K8DfRlkF445h",
    "nbgrader": {
     "grade": false,
     "grade_id": "cell-589b90ad4fbb3f56",
     "locked": true,
     "schema_version": 1,
     "solution": false
    }
   },
   "source": [
    "[Back to top](#Index:) \n",
    "\n",
    "### Problem 9\n",
    "\n",
    "#### How many rows were lost?\n",
    "\n",
    "**5 Points**\n",
    "\n",
    "Compare the shape of the original dataset to your solution in 8.  How many rows were lost dropping the data?  Assign your answer as an integer to `ans9` below."
   ]
  },
  {
   "cell_type": "code",
   "execution_count": 21,
   "metadata": {
    "id": "vnFosrR3445h",
    "nbgrader": {
     "grade": false,
     "grade_id": "cell-9ecfbbbcaf76c9e0",
     "locked": false,
     "schema_version": 1,
     "solution": true
    },
    "outputId": "74ab3609-fdbe-4a98-9925-9da0ef2c2900"
   },
   "outputs": [
    {
     "name": "stdout",
     "output_type": "stream",
     "text": [
      "<class 'int'>\n"
     ]
    },
    {
     "data": {
      "text/plain": [
       "4796"
      ]
     },
     "execution_count": 21,
     "metadata": {},
     "output_type": "execute_result"
    }
   ],
   "source": [
    "### GRADED\n",
    "\n",
    "ans9 = None\n",
    "\n",
    "### BEGIN SOLUTION\n",
    "ans9 = df.shape[0] - df.dropna(subset = ['revenue', 'profit']).shape[0]\n",
    "### END SOLUTION\n",
    "\n",
    "# Answer check\n",
    "print(type(ans9))\n",
    "ans9"
   ]
  },
  {
   "cell_type": "markdown",
   "metadata": {
    "id": "mFEy29jD445i",
    "nbgrader": {
     "grade": false,
     "grade_id": "cell-169567641aa26992",
     "locked": true,
     "schema_version": 1,
     "solution": false
    }
   },
   "source": [
    "Note that you've lost almost half of our data dropping missing revenue and profit.  Perhaps a different approach should be considered!  Take some time and examine other missing data in our dataset and some strategies for dealing with it.  If it is possible to keep observations do so."
   ]
  }
 ],
 "metadata": {
  "celltoolbar": "Create Assignment",
  "colab": {
   "name": "coding_activity_4.6.ipynb",
   "provenance": []
  },
  "kernelspec": {
   "display_name": "Python 3 (ipykernel)",
   "language": "python",
   "name": "python3"
  },
  "language_info": {
   "codemirror_mode": {
    "name": "ipython",
    "version": 3
   },
   "file_extension": ".py",
   "mimetype": "text/x-python",
   "name": "python",
   "nbconvert_exporter": "python",
   "pygments_lexer": "ipython3",
   "version": "3.11.7"
  }
 },
 "nbformat": 4,
 "nbformat_minor": 4
}
