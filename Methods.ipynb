{
 "cells": [
  {
   "cell_type": "markdown",
   "metadata": {},
   "source": [
    "# Outline\n",
    "- What is a method?\n",
    "- Common methods and method notation for a:\n",
    "    - string\n",
    "    - float\n",
    "    - list"
   ]
  },
  {
   "cell_type": "markdown",
   "metadata": {},
   "source": [
    "## What is a method?\n",
    "- Similar to regular functions\n",
    "- Belongs to a specific type"
   ]
  },
  {
   "cell_type": "markdown",
   "metadata": {},
   "source": [
    "## Common methods and method notation"
   ]
  },
  {
   "cell_type": "code",
   "execution_count": 1,
   "metadata": {},
   "outputs": [
    {
     "data": {
      "text/plain": [
       "'EMMA WATSON'"
      ]
     },
     "execution_count": 1,
     "metadata": {},
     "output_type": "execute_result"
    }
   ],
   "source": [
    "#After the data, write a dot, the function name, followed by parenthases\n",
    "#string methods\n",
    "name = \"emma watson\"\n",
    "name.upper()"
   ]
  },
  {
   "cell_type": "code",
   "execution_count": 2,
   "metadata": {},
   "outputs": [
    {
     "data": {
      "text/plain": [
       "'Emma watson'"
      ]
     },
     "execution_count": 2,
     "metadata": {},
     "output_type": "execute_result"
    }
   ],
   "source": [
    "name.capitalize()"
   ]
  },
  {
   "cell_type": "code",
   "execution_count": 3,
   "metadata": {},
   "outputs": [
    {
     "data": {
      "text/plain": [
       "'emma roberts'"
      ]
     },
     "execution_count": 3,
     "metadata": {},
     "output_type": "execute_result"
    }
   ],
   "source": [
    "name.replace('watson', 'roberts')"
   ]
  },
  {
   "cell_type": "code",
   "execution_count": 13,
   "metadata": {},
   "outputs": [
    {
     "data": {
      "text/plain": [
       "5"
      ]
     },
     "execution_count": 13,
     "metadata": {},
     "output_type": "execute_result"
    }
   ],
   "source": [
    "name.find('watson')"
   ]
  },
  {
   "cell_type": "code",
   "execution_count": 5,
   "metadata": {},
   "outputs": [
    {
     "data": {
      "text/plain": [
       "False"
      ]
     },
     "execution_count": 5,
     "metadata": {},
     "output_type": "execute_result"
    }
   ],
   "source": [
    "#float methods\n",
    "x = 123.4\n",
    "x.is_integer()\n"
   ]
  },
  {
   "cell_type": "code",
   "execution_count": 15,
   "metadata": {},
   "outputs": [
    {
     "name": "stdout",
     "output_type": "stream",
     "text": [
      "['Dec 10', 20, True, 'Dec 11', 22, True, 'Dec 12', 21, True, 'Dec 13', 19, False, 'Dec 14', 13, False, 'Dec 15', 21, True]\n"
     ]
    }
   ],
   "source": [
    "#list methods\n",
    "dec_temperatures_mood = [\"Dec 10\",20, True, \"Dec 11\", 22, True, \"Dec 12\", 21, True, \"Dec 13\", 19, False, \"Dec 14\", 13, False, \"Dec 15\", 21, True]\n",
    "dec_temperatures_mood.count(20)\n",
    "print(dec_temperatures_mood)"
   ]
  },
  {
   "cell_type": "code",
   "execution_count": 18,
   "metadata": {},
   "outputs": [
    {
     "name": "stdout",
     "output_type": "stream",
     "text": [
      "['Dec 10', 20, True, 'Dec 11', 22, True, 'Dec 12', 21, True, 'Dec 13', 19, False, 'Dec 14', 13, False, 'Dec 15', 21, True, 'Dec 16', 18, True]\n"
     ]
    }
   ],
   "source": [
    "dec_temperatures_mood.append(\"Dec 16\")\n",
    "dec_temperatures_mood.append(18)\n",
    "dec_temperatures_mood.append(True)\n",
    "\n",
    "print(dec_temperatures_mood)"
   ]
  }
 ],
 "metadata": {
  "kernelspec": {
   "display_name": "Python 3 (ipykernel)",
   "language": "python",
   "name": "python3"
  },
  "language_info": {
   "codemirror_mode": {
    "name": "ipython",
    "version": 3
   },
   "file_extension": ".py",
   "mimetype": "text/x-python",
   "name": "python",
   "nbconvert_exporter": "python",
   "pygments_lexer": "ipython3",
   "version": "3.11.7"
  }
 },
 "nbformat": 4,
 "nbformat_minor": 4
}
