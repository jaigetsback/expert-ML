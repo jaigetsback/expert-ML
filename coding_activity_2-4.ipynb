{
 "cells": [
  {
   "cell_type": "markdown",
   "metadata": {
    "nbgrader": {
     "grade": false,
     "grade_id": "cell-1087582e116fd58d",
     "locked": true,
     "schema_version": 1,
     "solution": false
    }
   },
   "source": [
    "## Codio Activity 2.4: Measures of Center and Spread with `pandas`\n",
    "\n",
    "**Expected Time: 60 Minutes**\n",
    "\n",
    "**Total Points: 20**\n",
    "\n",
    "Measures of central tendency for datasets are typically mean, median, mode, variance, and standard deviation. We will explore mode in later modules. This assignment focuses on using pandas to compute numerical summaries of data. You will load in a dataset and compute the mean, median, variance, and standard deviation of numeric features in the data. You will also examine the spread of the data using quartiles and the interquartile range, also identifying outliers using the  1.5×𝐼𝑄𝑅  rule.\n",
    "\n",
    "\n",
    "## Index:\n",
    "\n",
    "- [Problem 1](#Problem-1:-Load-the-Data)\n",
    "- [Problem 2](#Problem-2:-Base-Salary-Distribution-Mean)\n",
    "- [Problem 3](#Problem-3:-Base-Salary-Distribution-Median)\n",
    "- [Problem 4](#Problem-4:-Determining-Quartiles)\n",
    "- [Problem 5](#Problem-5:-Interquartile-Range)\n",
    "- [Problem 6](#Problem-6:-Rule-for-Outliers)\n",
    "- [Problem 7](#Problem-7:-Dropping-Outliers)\n",
    "- [Problem 8](#Finding-the-Mean-with-no-Outliers)\n",
    "- [Problem 9]()\n",
    "- [Problem 10](#Standard-Deviation-with-`numpy`)\n",
    "- [Problem 11](#Standard-Deviation-with-`pandas`)\n",
    "- [Problem 12]()\n",
    "- [Problem 13](#Measure-of-Spread)"
   ]
  },
  {
   "cell_type": "code",
   "execution_count": 1,
   "metadata": {
    "nbgrader": {
     "grade": false,
     "grade_id": "cell-57a8bb6419472979",
     "locked": true,
     "schema_version": 1,
     "solution": false
    }
   },
   "outputs": [],
   "source": [
    "import pandas as pd\n",
    "import matplotlib.pyplot as plt\n",
    "import numpy as np"
   ]
  },
  {
   "cell_type": "markdown",
   "metadata": {
    "nbgrader": {
     "grade": false,
     "grade_id": "cell-4f553efc8f6f1594",
     "locked": true,
     "schema_version": 1,
     "solution": false
    }
   },
   "source": [
    "### The Data\n",
    "\n",
    "\n",
    "![](images/payroll.png)\n",
    "The dataset for this assignment comes from New York City's Open Data, and contains information about the citywide payroll data.  Below, you are to load the data from a `.csv` file.  "
   ]
  },
  {
   "cell_type": "markdown",
   "metadata": {
    "nbgrader": {
     "grade": false,
     "grade_id": "cell-e3db3a4e7a649c16",
     "locked": true,
     "schema_version": 1,
     "solution": false
    }
   },
   "source": [
    "[Back to top](#Index:) \n",
    "\n",
    "### Problem 1:  Load the Data\n",
    "\n",
    "**1 Point**\n",
    "\n",
    "Below, load the data file located in the `data` folder named `nyc_salaries.csv`.  Assign your DataFrame to `nyc_salary_data`."
   ]
  },
  {
   "cell_type": "code",
   "execution_count": 2,
   "metadata": {
    "nbgrader": {
     "grade": false,
     "grade_id": "cell-6291888fc0a2de17",
     "locked": false,
     "schema_version": 1,
     "solution": true
    }
   },
   "outputs": [],
   "source": [
    "###GRADED\n",
    "\n",
    "nyc_salary_data = ''\n",
    "\n",
    "###BEGIN SOLUTION\n",
    "nyc_salary_data = pd.read_csv('/Users/jaikumar/Desktop/Berkeley_ML/codio_2.4_solution/data/nyc_salaries.csv')\n",
    "###END SOLUTION"
   ]
  },
  {
   "cell_type": "code",
   "execution_count": 3,
   "metadata": {
    "nbgrader": {
     "grade": true,
     "grade_id": "cell-73d11f659ef346c5",
     "locked": true,
     "points": 1,
     "schema_version": 1,
     "solution": false
    }
   },
   "outputs": [],
   "source": [
    "###BEGIN HIDDEN TESTS\n",
    "nyc_salary_data_ = pd.read_csv('data/nyc_salaries.csv')\n",
    "\n",
    "pd.testing.assert_frame_equal(nyc_salary_data.head(), nyc_salary_data_.head())\n",
    "###END HIDDEN TESTS"
   ]
  },
  {
   "cell_type": "markdown",
   "metadata": {
    "nbgrader": {
     "grade": false,
     "grade_id": "cell-b4c16300003a1941",
     "locked": true,
     "schema_version": 1,
     "solution": false
    }
   },
   "source": [
    "### Examine the Data\n",
    "\n",
    "Now that the data is loaded, information about the datatypes and missing values as well as a quick look at the first five rows of the data can be had with the `.info()` and `.head()` methods."
   ]
  },
  {
   "cell_type": "code",
   "execution_count": 3,
   "metadata": {
    "nbgrader": {
     "grade": false,
     "grade_id": "cell-89375439b0f16365",
     "locked": true,
     "schema_version": 1,
     "solution": false
    }
   },
   "outputs": [
    {
     "name": "stdout",
     "output_type": "stream",
     "text": [
      "<class 'pandas.core.frame.DataFrame'>\n",
      "RangeIndex: 590210 entries, 0 to 590209\n",
      "Data columns (total 17 columns):\n",
      " #   Column                      Non-Null Count   Dtype  \n",
      "---  ------                      --------------   -----  \n",
      " 0   fiscal_year                 590210 non-null  int64  \n",
      " 1   payroll_number              590210 non-null  int64  \n",
      " 2   agency_name                 590210 non-null  object \n",
      " 3   last_name                   589838 non-null  object \n",
      " 4   first_name                  589835 non-null  object \n",
      " 5   agency_start_date           590147 non-null  object \n",
      " 6   work_location_borough       590207 non-null  object \n",
      " 7   title_description           590204 non-null  object \n",
      " 8   leave_status_as_of_july_31  590210 non-null  object \n",
      " 9   base_salary                 590210 non-null  float64\n",
      " 10  pay_basis                   590210 non-null  object \n",
      " 11  regular_hours               590210 non-null  float64\n",
      " 12  regular_gross_paid          590210 non-null  float64\n",
      " 13  ot_hours                    590210 non-null  float64\n",
      " 14  total_ot_paid               590210 non-null  float64\n",
      " 15  total_other_pay             590210 non-null  float64\n",
      " 16  mid_init                    349608 non-null  object \n",
      "dtypes: float64(6), int64(2), object(9)\n",
      "memory usage: 76.6+ MB\n"
     ]
    }
   ],
   "source": [
    "nyc_salary_data.info()"
   ]
  },
  {
   "cell_type": "code",
   "execution_count": 5,
   "metadata": {
    "nbgrader": {
     "grade": false,
     "grade_id": "cell-307db90cf5d8795f",
     "locked": true,
     "schema_version": 1,
     "solution": false
    }
   },
   "outputs": [
    {
     "data": {
      "text/html": [
       "<div>\n",
       "<style scoped>\n",
       "    .dataframe tbody tr th:only-of-type {\n",
       "        vertical-align: middle;\n",
       "    }\n",
       "\n",
       "    .dataframe tbody tr th {\n",
       "        vertical-align: top;\n",
       "    }\n",
       "\n",
       "    .dataframe thead th {\n",
       "        text-align: right;\n",
       "    }\n",
       "</style>\n",
       "<table border=\"1\" class=\"dataframe\">\n",
       "  <thead>\n",
       "    <tr style=\"text-align: right;\">\n",
       "      <th></th>\n",
       "      <th>fiscal_year</th>\n",
       "      <th>payroll_number</th>\n",
       "      <th>agency_name</th>\n",
       "      <th>last_name</th>\n",
       "      <th>first_name</th>\n",
       "      <th>agency_start_date</th>\n",
       "      <th>work_location_borough</th>\n",
       "      <th>title_description</th>\n",
       "      <th>leave_status_as_of_july_31</th>\n",
       "      <th>base_salary</th>\n",
       "      <th>pay_basis</th>\n",
       "      <th>regular_hours</th>\n",
       "      <th>regular_gross_paid</th>\n",
       "      <th>ot_hours</th>\n",
       "      <th>total_ot_paid</th>\n",
       "      <th>total_other_pay</th>\n",
       "      <th>mid_init</th>\n",
       "    </tr>\n",
       "  </thead>\n",
       "  <tbody>\n",
       "    <tr>\n",
       "      <th>0</th>\n",
       "      <td>2020</td>\n",
       "      <td>17</td>\n",
       "      <td>OFFICE OF EMERGENCY MANAGEMENT</td>\n",
       "      <td>BEREZIN</td>\n",
       "      <td>MIKHAIL</td>\n",
       "      <td>2015-08-10T00:00:00.000</td>\n",
       "      <td>BROOKLYN</td>\n",
       "      <td>EMERGENCY PREPAREDNESS MANAGER</td>\n",
       "      <td>ACTIVE</td>\n",
       "      <td>86005.0</td>\n",
       "      <td>per Annum</td>\n",
       "      <td>1820.0</td>\n",
       "      <td>84698.21</td>\n",
       "      <td>0.0</td>\n",
       "      <td>0.0</td>\n",
       "      <td>0.0</td>\n",
       "      <td>NaN</td>\n",
       "    </tr>\n",
       "    <tr>\n",
       "      <th>1</th>\n",
       "      <td>2020</td>\n",
       "      <td>17</td>\n",
       "      <td>OFFICE OF EMERGENCY MANAGEMENT</td>\n",
       "      <td>GEAGER</td>\n",
       "      <td>VERONICA</td>\n",
       "      <td>2016-09-12T00:00:00.000</td>\n",
       "      <td>BROOKLYN</td>\n",
       "      <td>EMERGENCY PREPAREDNESS MANAGER</td>\n",
       "      <td>ACTIVE</td>\n",
       "      <td>86005.0</td>\n",
       "      <td>per Annum</td>\n",
       "      <td>1820.0</td>\n",
       "      <td>84698.21</td>\n",
       "      <td>0.0</td>\n",
       "      <td>0.0</td>\n",
       "      <td>0.0</td>\n",
       "      <td>M</td>\n",
       "    </tr>\n",
       "    <tr>\n",
       "      <th>2</th>\n",
       "      <td>2020</td>\n",
       "      <td>17</td>\n",
       "      <td>OFFICE OF EMERGENCY MANAGEMENT</td>\n",
       "      <td>RAMANI</td>\n",
       "      <td>SHRADDHA</td>\n",
       "      <td>2016-02-22T00:00:00.000</td>\n",
       "      <td>BROOKLYN</td>\n",
       "      <td>EMERGENCY PREPAREDNESS MANAGER</td>\n",
       "      <td>ACTIVE</td>\n",
       "      <td>86005.0</td>\n",
       "      <td>per Annum</td>\n",
       "      <td>1820.0</td>\n",
       "      <td>84698.21</td>\n",
       "      <td>0.0</td>\n",
       "      <td>0.0</td>\n",
       "      <td>0.0</td>\n",
       "      <td>NaN</td>\n",
       "    </tr>\n",
       "    <tr>\n",
       "      <th>3</th>\n",
       "      <td>2020</td>\n",
       "      <td>17</td>\n",
       "      <td>OFFICE OF EMERGENCY MANAGEMENT</td>\n",
       "      <td>ROTTA</td>\n",
       "      <td>JONATHAN</td>\n",
       "      <td>2013-09-16T00:00:00.000</td>\n",
       "      <td>BROOKLYN</td>\n",
       "      <td>EMERGENCY PREPAREDNESS MANAGER</td>\n",
       "      <td>ACTIVE</td>\n",
       "      <td>86005.0</td>\n",
       "      <td>per Annum</td>\n",
       "      <td>1820.0</td>\n",
       "      <td>84698.21</td>\n",
       "      <td>0.0</td>\n",
       "      <td>0.0</td>\n",
       "      <td>0.0</td>\n",
       "      <td>D</td>\n",
       "    </tr>\n",
       "    <tr>\n",
       "      <th>4</th>\n",
       "      <td>2020</td>\n",
       "      <td>17</td>\n",
       "      <td>OFFICE OF EMERGENCY MANAGEMENT</td>\n",
       "      <td>WILSON II</td>\n",
       "      <td>ROBERT</td>\n",
       "      <td>2018-04-30T00:00:00.000</td>\n",
       "      <td>BROOKLYN</td>\n",
       "      <td>EMERGENCY PREPAREDNESS MANAGER</td>\n",
       "      <td>ACTIVE</td>\n",
       "      <td>86005.0</td>\n",
       "      <td>per Annum</td>\n",
       "      <td>1820.0</td>\n",
       "      <td>84698.21</td>\n",
       "      <td>0.0</td>\n",
       "      <td>0.0</td>\n",
       "      <td>0.0</td>\n",
       "      <td>P</td>\n",
       "    </tr>\n",
       "  </tbody>\n",
       "</table>\n",
       "</div>"
      ],
      "text/plain": [
       "   fiscal_year  payroll_number                     agency_name  last_name  \\\n",
       "0         2020              17  OFFICE OF EMERGENCY MANAGEMENT    BEREZIN   \n",
       "1         2020              17  OFFICE OF EMERGENCY MANAGEMENT     GEAGER   \n",
       "2         2020              17  OFFICE OF EMERGENCY MANAGEMENT     RAMANI   \n",
       "3         2020              17  OFFICE OF EMERGENCY MANAGEMENT      ROTTA   \n",
       "4         2020              17  OFFICE OF EMERGENCY MANAGEMENT  WILSON II   \n",
       "\n",
       "  first_name        agency_start_date work_location_borough  \\\n",
       "0    MIKHAIL  2015-08-10T00:00:00.000              BROOKLYN   \n",
       "1   VERONICA  2016-09-12T00:00:00.000              BROOKLYN   \n",
       "2   SHRADDHA  2016-02-22T00:00:00.000              BROOKLYN   \n",
       "3   JONATHAN  2013-09-16T00:00:00.000              BROOKLYN   \n",
       "4     ROBERT  2018-04-30T00:00:00.000              BROOKLYN   \n",
       "\n",
       "                title_description leave_status_as_of_july_31  base_salary  \\\n",
       "0  EMERGENCY PREPAREDNESS MANAGER                     ACTIVE      86005.0   \n",
       "1  EMERGENCY PREPAREDNESS MANAGER                     ACTIVE      86005.0   \n",
       "2  EMERGENCY PREPAREDNESS MANAGER                     ACTIVE      86005.0   \n",
       "3  EMERGENCY PREPAREDNESS MANAGER                     ACTIVE      86005.0   \n",
       "4  EMERGENCY PREPAREDNESS MANAGER                     ACTIVE      86005.0   \n",
       "\n",
       "   pay_basis  regular_hours  regular_gross_paid  ot_hours  total_ot_paid  \\\n",
       "0  per Annum         1820.0            84698.21       0.0            0.0   \n",
       "1  per Annum         1820.0            84698.21       0.0            0.0   \n",
       "2  per Annum         1820.0            84698.21       0.0            0.0   \n",
       "3  per Annum         1820.0            84698.21       0.0            0.0   \n",
       "4  per Annum         1820.0            84698.21       0.0            0.0   \n",
       "\n",
       "   total_other_pay mid_init  \n",
       "0              0.0      NaN  \n",
       "1              0.0        M  \n",
       "2              0.0      NaN  \n",
       "3              0.0        D  \n",
       "4              0.0        P  "
      ]
     },
     "execution_count": 5,
     "metadata": {},
     "output_type": "execute_result"
    }
   ],
   "source": [
    "nyc_salary_data.head()"
   ]
  },
  {
   "cell_type": "markdown",
   "metadata": {
    "nbgrader": {
     "grade": false,
     "grade_id": "cell-b2c3403bad0b7770",
     "locked": true,
     "schema_version": 1,
     "solution": false
    }
   },
   "source": [
    "[Back to top](#Index:) \n",
    "\n",
    "### Problem 2: Base Salary Distribution Mean\n",
    "\n",
    "**1 Point**\n",
    "\n",
    "Use pandas to determine the mean of the `base_salary` column.  Assign your answer to the variable `ans_2` below."
   ]
  },
  {
   "cell_type": "code",
   "execution_count": 6,
   "metadata": {
    "nbgrader": {
     "grade": false,
     "grade_id": "cell-da1352c3bec4bf1f",
     "locked": true,
     "schema_version": 1,
     "solution": false
    }
   },
   "outputs": [
    {
     "data": {
      "text/plain": [
       "<AxesSubplot:>"
      ]
     },
     "execution_count": 6,
     "metadata": {},
     "output_type": "execute_result"
    },
    {
     "data": {
      "image/png": "[encoded data removed]",
      "text/plain": [
       "<Figure size 432x288 with 1 Axes>"
      ]
     },
     "metadata": {
      "needs_background": "light"
     },
     "output_type": "display_data"
    }
   ],
   "source": [
    "nyc_salary_data['base_salary'].hist()"
   ]
  },
  {
   "cell_type": "code",
   "execution_count": 4,
   "metadata": {
    "nbgrader": {
     "grade": false,
     "grade_id": "cell-cd78182db2201756",
     "locked": false,
     "schema_version": 1,
     "solution": true
    }
   },
   "outputs": [],
   "source": [
    "###GRADED\n",
    "\n",
    "ans_2 = ''\n",
    "\n",
    "###BEGIN SOLUTION\n",
    "ans_2 = nyc_salary_data['base_salary'].mean()\n",
    "###END SOLUTION"
   ]
  },
  {
   "cell_type": "code",
   "execution_count": 8,
   "metadata": {
    "nbgrader": {
     "grade": true,
     "grade_id": "cell-021c7662ba093b0b",
     "locked": true,
     "points": 1,
     "schema_version": 1,
     "solution": false
    }
   },
   "outputs": [],
   "source": [
    "###BEGIN HIDDEN TESTS\n",
    "ans_2_ = nyc_salary_data_['base_salary'].mean()\n",
    "assert ans_2 == ans_2_\n",
    "###END HIDDEN TESTS"
   ]
  },
  {
   "cell_type": "markdown",
   "metadata": {
    "nbgrader": {
     "grade": false,
     "grade_id": "cell-72a754ce83ee3b3b",
     "locked": true,
     "schema_version": 1,
     "solution": false
    }
   },
   "source": [
    "[Back to top](#Index:) \n",
    "\n",
    "### Problem 3: Base Salary Distribution Median\n",
    "\n",
    "\n",
    "**1 Point**\n",
    "\n",
    "\n",
    "Use the pandas `.median()` method to find the median of the `base_salary` column. Assign your answer to the variable `ans_3` below."
   ]
  },
  {
   "cell_type": "code",
   "execution_count": 5,
   "metadata": {
    "nbgrader": {
     "grade": false,
     "grade_id": "cell-0851cc6cc89a3fba",
     "locked": false,
     "schema_version": 1,
     "solution": true
    }
   },
   "outputs": [],
   "source": [
    "###GRADED\n",
    "\n",
    "ans_3 = ''\n",
    "\n",
    "###BEGIN SOLUTION\n",
    "ans_3 = nyc_salary_data['base_salary'].median()\n",
    "###END SOLUTION"
   ]
  },
  {
   "cell_type": "code",
   "execution_count": 10,
   "metadata": {
    "nbgrader": {
     "grade": true,
     "grade_id": "cell-db0b2a794549b1cb",
     "locked": true,
     "points": 1,
     "schema_version": 1,
     "solution": false
    }
   },
   "outputs": [],
   "source": [
    "###BEGIN HIDDEN TESTS\n",
    "ans_3_ = nyc_salary_data_['base_salary'].median()\n",
    "assert ans_3_ == ans_3\n",
    "###END HIDDEN TESTS"
   ]
  },
  {
   "cell_type": "markdown",
   "metadata": {
    "nbgrader": {
     "grade": false,
     "grade_id": "cell-46bcd666fce27157",
     "locked": true,
     "schema_version": 1,
     "solution": false
    }
   },
   "source": [
    "[Back to top](#Index:) \n",
    "\n",
    "### Problem 4: Determining Quartiles\n",
    "\n",
    "**2 Points**\n",
    "\n",
    "- The first quartile in our data is found by arranging the data from least to greatest and determining the median of the lower half of the data.  \n",
    "- The third quartile is the median of the upper half of the data.  \n",
    "- Pandas has a `.quantile()` method that accepts an argument as a single value or list of values of quantiles to compute.  \n",
    "- Use the `.quantile()` method to determine the first and third quartile of the `base_salary` data.  \n",
    "- Assign your answers to the variables `first_quartile` and `third_quartile` below."
   ]
  },
  {
   "cell_type": "code",
   "execution_count": 6,
   "metadata": {
    "nbgrader": {
     "grade": false,
     "grade_id": "cell-a5e27f0519a15a18",
     "locked": false,
     "schema_version": 1,
     "solution": true
    }
   },
   "outputs": [],
   "source": [
    "###GRADED\n",
    "\n",
    "first_quartile = ''\n",
    "third_quartile = ''\n",
    "\n",
    "###BEGIN SOLUTION\n",
    "first_quartile = nyc_salary_data['base_salary'].quantile(.25)\n",
    "third_quartile = nyc_salary_data['base_salary'].quantile(.75)\n",
    "###END SOLUTION"
   ]
  },
  {
   "cell_type": "code",
   "execution_count": 12,
   "metadata": {
    "nbgrader": {
     "grade": true,
     "grade_id": "cell-4545ee47429c4ac0",
     "locked": true,
     "points": 2,
     "schema_version": 1,
     "solution": false
    }
   },
   "outputs": [],
   "source": [
    "###BEGIN HIDDEN TESTS\n",
    "first_quartile_ = nyc_salary_data_['base_salary'].quantile(.25)\n",
    "third_quartile_ = nyc_salary_data_['base_salary'].quantile(.75)\n",
    "assert first_quartile == first_quartile_\n",
    "assert third_quartile == third_quartile_\n",
    "###END HIDDEN TESTS"
   ]
  },
  {
   "cell_type": "markdown",
   "metadata": {
    "nbgrader": {
     "grade": false,
     "grade_id": "cell-00ad71de2eb65fbb",
     "locked": true,
     "schema_version": 1,
     "solution": false
    }
   },
   "source": [
    "[Back to top](#Index:) \n",
    "\n",
    "### Problem 5: Interquartile Range\n",
    "\n",
    "**1 Point**\n",
    "\n",
    "The Interquartile Range (IQR) is the distance between the third and first quartile.  \n",
    "\n",
    "$$\\text{IQR} = Q_3 - Q_1$$\n",
    "\n",
    "Use your work from problem 4 to determine the IQR for the `base_salary` column and assign it to the `iqr` variable below."
   ]
  },
  {
   "cell_type": "code",
   "execution_count": 7,
   "metadata": {
    "nbgrader": {
     "grade": false,
     "grade_id": "cell-f282ff23c443a932",
     "locked": false,
     "schema_version": 1,
     "solution": true
    }
   },
   "outputs": [],
   "source": [
    "###GRADED\n",
    "\n",
    "iqr = ''\n",
    "\n",
    "###BEGIN SOLUTION\n",
    "iqr = nyc_salary_data['base_salary'].quantile(.75) - nyc_salary_data['base_salary'].quantile(.25)\n",
    "###END SOLUTION"
   ]
  },
  {
   "cell_type": "code",
   "execution_count": 14,
   "metadata": {
    "nbgrader": {
     "grade": true,
     "grade_id": "cell-72b48ffc6a4d8b0f",
     "locked": true,
     "points": 1,
     "schema_version": 1,
     "solution": false
    }
   },
   "outputs": [],
   "source": [
    "###BEGIN HIDDEN TESTS\n",
    "iqr_ = nyc_salary_data_['base_salary'].quantile(.75) - nyc_salary_data_['base_salary'].quantile(.25)\n",
    "assert iqr == iqr_\n",
    "###END HIDDEN TESTS"
   ]
  },
  {
   "cell_type": "markdown",
   "metadata": {
    "nbgrader": {
     "grade": false,
     "grade_id": "cell-6595db2df62a8894",
     "locked": true,
     "schema_version": 1,
     "solution": false
    }
   },
   "source": [
    "[Back to top](#Index:) \n",
    "\n",
    "### Problem 6: Rule for Outliers\n",
    "\n",
    "**2 Points**\n",
    "\n",
    "We can use the IQR to determine boundaries for outliers.  One such rule of thumb is that any values $1.5 \\times IQR$ above the third quartile or below the first are considered outliers.  \n",
    "\n",
    "Calculate the lower and upper boundaries for outliers for the `base_salary` column using the IQR rule.\n",
    "\n",
    "Assign your solutions to the variables `lower` and `upper` below."
   ]
  },
  {
   "cell_type": "code",
   "execution_count": 8,
   "metadata": {
    "nbgrader": {
     "grade": false,
     "grade_id": "cell-d4483aa3bbe2f696",
     "locked": false,
     "schema_version": 1,
     "solution": true
    }
   },
   "outputs": [],
   "source": [
    "###GRADED\n",
    "\n",
    "lower = ''\n",
    "upper = ''\n",
    "\n",
    "###BEGIN SOLUTION\n",
    "first_quartile = nyc_salary_data['base_salary'].quantile(.25)\n",
    "third_quartile = nyc_salary_data['base_salary'].quantile(.75)\n",
    "iqr = nyc_salary_data['base_salary'].quantile(.75) - nyc_salary_data['base_salary'].quantile(.25)\n",
    "lower = first_quartile - 1.5*iqr\n",
    "upper = third_quartile + 1.5*iqr\n",
    "###END SOLUTION"
   ]
  },
  {
   "cell_type": "code",
   "execution_count": 16,
   "metadata": {
    "nbgrader": {
     "grade": true,
     "grade_id": "cell-8d9d8d56d9e50b1c",
     "locked": true,
     "points": 2,
     "schema_version": 1,
     "solution": false
    }
   },
   "outputs": [],
   "source": [
    "###BEGIN HIDDEN TESTS\n",
    "first_quartile_ = nyc_salary_data_['base_salary'].quantile(.25)\n",
    "third_quartile_ = nyc_salary_data_['base_salary'].quantile(.75)\n",
    "iqr_ = nyc_salary_data_['base_salary'].quantile(.75) - nyc_salary_data_['base_salary'].quantile(.25)\n",
    "lower_ = first_quartile_ - 1.5*iqr_\n",
    "upper_ = third_quartile_ + 1.5*iqr_\n",
    "assert lower == lower_\n",
    "assert upper == upper_\n",
    "###END HIDDEN TESTS"
   ]
  },
  {
   "cell_type": "markdown",
   "metadata": {
    "nbgrader": {
     "grade": false,
     "grade_id": "cell-1085da663296e047",
     "locked": true,
     "schema_version": 1,
     "solution": false
    }
   },
   "source": [
    "[Back to top](#Index:) \n",
    "\n",
    "### Problem 7: Dropping Outliers\n",
    "\n",
    "\n",
    "**1 Point**\n",
    "\n",
    "\n",
    "With the upper and lower boundaries in place, we want to drop outliers from the dataset.  Use pandas to limit the data based on outliers using the $1.5 \\times IQR$ rule on the `base_salary` column.  Assign the resulting DataFrame to `salaries_no_outlier` below."
   ]
  },
  {
   "cell_type": "code",
   "execution_count": 9,
   "metadata": {
    "nbgrader": {
     "grade": false,
     "grade_id": "cell-04ad44c7e6a67427",
     "locked": false,
     "schema_version": 1,
     "solution": true
    }
   },
   "outputs": [],
   "source": [
    "###GRADED\n",
    "\n",
    "salaries_no_outlier = ''\n",
    "\n",
    "###BEGIN SOLUTION\n",
    "first_quartile = nyc_salary_data['base_salary'].quantile(.25)\n",
    "third_quartile = nyc_salary_data['base_salary'].quantile(.75)\n",
    "iqr = nyc_salary_data['base_salary'].quantile(.75) - nyc_salary_data['base_salary'].quantile(.25)\n",
    "lower = first_quartile - 1.5*iqr\n",
    "upper = third_quartile + 1.5*iqr\n",
    "salaries_no_outlier = nyc_salary_data.loc[(nyc_salary_data['base_salary']>lower) & (nyc_salary_data['base_salary']<upper)]\n",
    "\n",
    "###END SOLUTION"
   ]
  },
  {
   "cell_type": "code",
   "execution_count": 18,
   "metadata": {
    "nbgrader": {
     "grade": true,
     "grade_id": "cell-662b72b4625742d3",
     "locked": true,
     "points": 1,
     "schema_version": 1,
     "solution": false
    }
   },
   "outputs": [],
   "source": [
    "###BEGIN HIDDEN TESTS\n",
    "first_quartile_ = nyc_salary_data_['base_salary'].quantile(.25)\n",
    "third_quartile_ = nyc_salary_data_['base_salary'].quantile(.75)\n",
    "iqr_ = nyc_salary_data_['base_salary'].quantile(.75) - nyc_salary_data_['base_salary'].quantile(.25)\n",
    "lower_ = first_quartile_ - 1.5*iqr_\n",
    "upper_ = third_quartile_ + 1.5*iqr_\n",
    "salaries_no_outlier_ = nyc_salary_data_.loc[(nyc_salary_data_['base_salary']>lower) & (nyc_salary_data_['base_salary']<upper)]\n",
    "pd.testing.assert_frame_equal(salaries_no_outlier_.head(), salaries_no_outlier.head())\n",
    "###END HIDDEN TESTS"
   ]
  },
  {
   "cell_type": "markdown",
   "metadata": {
    "nbgrader": {
     "grade": false,
     "grade_id": "cell-90cc908f40a87441",
     "locked": true,
     "schema_version": 1,
     "solution": false
    }
   },
   "source": [
    "[Back to top](#Index:) \n",
    "\n",
    "### Problem 8: Finding the Mean with no Outliers\n",
    "\n",
    "**1 Point**\n",
    "\n",
    "Now that the outliers have been removed, we determine the mean of the `base_salary` column.  Assign your answer to `mean_no_outliers` below."
   ]
  },
  {
   "cell_type": "code",
   "execution_count": 19,
   "metadata": {
    "nbgrader": {
     "grade": false,
     "grade_id": "cell-3e40439d3f97b5e1",
     "locked": false,
     "schema_version": 1,
     "solution": true
    }
   },
   "outputs": [],
   "source": [
    "###GRADED\n",
    "\n",
    "mean_no_outliers = ''\n",
    "\n",
    "###BEGIN SOLUTION\n",
    "mean_no_outliers = salaries_no_outlier['base_salary'].mean()\n",
    "###END SOLUTION"
   ]
  },
  {
   "cell_type": "code",
   "execution_count": 20,
   "metadata": {
    "nbgrader": {
     "grade": true,
     "grade_id": "cell-1ced8f8030307f68",
     "locked": true,
     "points": 1,
     "schema_version": 1,
     "solution": false
    }
   },
   "outputs": [],
   "source": [
    "###BEGIN HIDDEN TESTS\n",
    "first_quartile_ = nyc_salary_data_['base_salary'].quantile(.25)\n",
    "third_quartile_ = nyc_salary_data_['base_salary'].quantile(.75)\n",
    "iqr_ = nyc_salary_data_['base_salary'].quantile(.75) - nyc_salary_data_['base_salary'].quantile(.25)\n",
    "lower_ = first_quartile_ - iqr_\n",
    "upper_ = third_quartile_ + iqr_\n",
    "salaries_no_outlier_ = nyc_salary_data_.loc[(nyc_salary_data_['base_salary']>(first_quartile_ - 1.5*iqr_)) & (nyc_salary_data_['base_salary']<(third_quartile_ + 1.5*iqr_))]\n",
    "mean_no_outliers_ = salaries_no_outlier_['base_salary'].mean()\n",
    "assert mean_no_outliers == mean_no_outliers_\n",
    "###END HIDDEN TESTS"
   ]
  },
  {
   "cell_type": "markdown",
   "metadata": {
    "nbgrader": {
     "grade": false,
     "grade_id": "cell-0ea498148d875ba5",
     "locked": true,
     "schema_version": 1,
     "solution": false
    }
   },
   "source": [
    "[Back to top](#Index:) \n",
    "\n",
    "### Problem 9: Finding the Median with no Outliers\n",
    "\n",
    "**2 Points**\n",
    "\n",
    "\n",
    "Now, determine the median of the `base_salary` column with the outlier removed.  Assign your solution to the variable `median_no_outliers` below."
   ]
  },
  {
   "cell_type": "code",
   "execution_count": 21,
   "metadata": {
    "nbgrader": {
     "grade": false,
     "grade_id": "cell-baac95078eee6981",
     "locked": false,
     "schema_version": 1,
     "solution": true
    }
   },
   "outputs": [],
   "source": [
    "###GRADED\n",
    "\n",
    "median_no_outliers = ''\n",
    "\n",
    "###BEGIN SOLUTION\n",
    "median_no_outliers = salaries_no_outlier['base_salary'].median()\n",
    "###END SOLUTION"
   ]
  },
  {
   "cell_type": "code",
   "execution_count": 22,
   "metadata": {
    "nbgrader": {
     "grade": true,
     "grade_id": "cell-44be113cb3469259",
     "locked": true,
     "points": 2,
     "schema_version": 1,
     "solution": false
    }
   },
   "outputs": [],
   "source": [
    "###BEGIN HIDDEN TESTS\n",
    "first_quartile_ = nyc_salary_data_['base_salary'].quantile(.25)\n",
    "third_quartile_ = nyc_salary_data_['base_salary'].quantile(.75)\n",
    "iqr_ = nyc_salary_data_['base_salary'].quantile(.75) - nyc_salary_data_['base_salary'].quantile(.25)\n",
    "lower_ = first_quartile_ - iqr_\n",
    "upper_ = third_quartile_ + iqr_\n",
    "salaries_no_outlier_ = nyc_salary_data_.loc[(nyc_salary_data_['base_salary']>(first_quartile_ - 1.5*iqr_)) & (nyc_salary_data_['base_salary']<(third_quartile_ + 1.5*iqr_))]\n",
    "median_no_outliers_ = salaries_no_outlier_['base_salary'].median()\n",
    "\n",
    "assert median_no_outliers == median_no_outliers_\n",
    "###END HIDDEN TESTS"
   ]
  },
  {
   "cell_type": "markdown",
   "metadata": {
    "nbgrader": {
     "grade": false,
     "grade_id": "cell-292754f7d6cf5c3b",
     "locked": true,
     "schema_version": 1,
     "solution": false
    }
   },
   "source": [
    "[Back to top](#Index:) \n",
    "\n",
    "### Problem 10: Standard Deviation with `numpy`\n",
    "\n",
    "**2 Points**\n",
    "\n",
    "\n",
    "An alternative measure for the spread of a dataset to the IQR is the **standard deviation**.  Both pandas and numpy have functions for computing the standard deviation, however they have different assumptions about the data.  To begin, we will use the `np.std()` method to determine the standard deviation of the `base_salary` column from both our datasets.  Assign your results to the variable `std_numpy_outliers` and `std_numpy_no_outliers` below."
   ]
  },
  {
   "cell_type": "code",
   "execution_count": 23,
   "metadata": {
    "nbgrader": {
     "grade": false,
     "grade_id": "cell-0dc0a6af67b36a7e",
     "locked": false,
     "schema_version": 1,
     "solution": true
    }
   },
   "outputs": [],
   "source": [
    "###GRADED\n",
    "\n",
    "std_numpy_outliers = ''\n",
    "std_numpy_no_outliers = ''\n",
    "\n",
    "###BEGIN SOLUTION\n",
    "std_numpy_outliers = np.std(nyc_salary_data['base_salary'])\n",
    "std_numpy_no_outliers = np.std(salaries_no_outlier['base_salary'])\n",
    "###END SOLUTION"
   ]
  },
  {
   "cell_type": "code",
   "execution_count": 24,
   "metadata": {
    "nbgrader": {
     "grade": true,
     "grade_id": "cell-1ee20e9b21ae7f57",
     "locked": true,
     "points": 2,
     "schema_version": 1,
     "solution": false
    }
   },
   "outputs": [],
   "source": [
    "###BEGIN HIDDEN TESTS\n",
    "std_numpy_outliers_ = np.std(nyc_salary_data_['base_salary'])\n",
    "std_numpy_no_outliers_ = np.std(salaries_no_outlier_['base_salary'])\n",
    "\n",
    "assert std_numpy_no_outliers == std_numpy_no_outliers_\n",
    "assert std_numpy_outliers == std_numpy_outliers_\n",
    "###END HIDDEN TESTS"
   ]
  },
  {
   "cell_type": "markdown",
   "metadata": {
    "nbgrader": {
     "grade": false,
     "grade_id": "cell-12476fd3906786d0",
     "locked": true,
     "schema_version": 1,
     "solution": false
    }
   },
   "source": [
    "[Back to top](#Index:) \n",
    "\n",
    "### Problem 11: Standard Deviation with `pandas`\n",
    "\n",
    "**2 Points**\n",
    "\n",
    "\n",
    "\n",
    "Now, we will use pandas to determine the standard deviation of the `base_salary` column.  Assign the standard deviation from pandas to `std_pandas_no_outliers` and `std_pandas_outliers` respectively below."
   ]
  },
  {
   "cell_type": "code",
   "execution_count": 25,
   "metadata": {
    "nbgrader": {
     "grade": false,
     "grade_id": "cell-83987103bba54493",
     "locked": false,
     "schema_version": 1,
     "solution": true
    }
   },
   "outputs": [],
   "source": [
    "###GRADED\n",
    "\n",
    "std_pandas_outliers = ''\n",
    "std_pandas_no_outliers = ''\n",
    "\n",
    "###BEGIN SOLUTION\n",
    "std_pandas_outliers = nyc_salary_data['base_salary'].std()\n",
    "std_pandas_no_outliers = salaries_no_outlier['base_salary'].std()\n",
    "###END SOLUTION"
   ]
  },
  {
   "cell_type": "code",
   "execution_count": 26,
   "metadata": {
    "nbgrader": {
     "grade": true,
     "grade_id": "cell-4e5d959f773a99c6",
     "locked": true,
     "points": 2,
     "schema_version": 1,
     "solution": false
    }
   },
   "outputs": [],
   "source": [
    "###BEGIN HIDDEN TESTS\n",
    "std_pandas_outliers_ = nyc_salary_data_['base_salary'].std()\n",
    "std_pandas_no_outliers_ = salaries_no_outlier_['base_salary'].std()\n",
    "\n",
    "assert std_pandas_no_outliers == std_pandas_no_outliers_\n",
    "assert std_pandas_outliers == std_pandas_outliers_\n",
    "###END HIDDEN TESTS"
   ]
  },
  {
   "cell_type": "markdown",
   "metadata": {
    "nbgrader": {
     "grade": false,
     "grade_id": "cell-52d70c1c68b13d51",
     "locked": true,
     "schema_version": 1,
     "solution": false
    }
   },
   "source": [
    "### Why are these different?\n",
    "\n",
    "Pandas and NumPy make different assumptions about the data, which is why we receive slightly different results.  This involves the default degree of freedom argument in the functions.  From the numpy docs we have:\n",
    "\n",
    "```\n",
    "ddof: int, optional\n",
    "Means Delta Degrees of Freedom. The divisor used in calculations is N - ddof, where N represents the number of elements. By default ddof is zero.\n",
    "```\n",
    "\n",
    "and from pandas we find:\n",
    "\n",
    "```\n",
    "ddof: int, default 1\n",
    "Delta Degrees of Freedom. The divisor used in calculations is N - ddof, where N represents the number of elements.\n",
    "```\n",
    "\n",
    "The main reason for the different assumptions is motivated by the fact that all the deviations from the mean will add to zero.  This means we would always know the the last deviation if we know the previous $n-1$.  Only $n-1$ are able to vary freely so the average is determined by dividing the total by $n-1$.  In practice the values won't differ greatly, it is important to recognize that there are some different assumptions however.  "
   ]
  },
  {
   "cell_type": "markdown",
   "metadata": {
    "nbgrader": {
     "grade": false,
     "grade_id": "cell-5ed6a1941c009934",
     "locked": true,
     "schema_version": 1,
     "solution": false
    }
   },
   "source": [
    "### A Second Small Example\n",
    "\n",
    "The data below relates to salmon smolts (young salmon) and the reflectance of their skin as a measure for readiness for migration."
   ]
  },
  {
   "cell_type": "code",
   "execution_count": 27,
   "metadata": {
    "nbgrader": {
     "grade": false,
     "grade_id": "cell-30a95ce8ab2f4916",
     "locked": true,
     "schema_version": 1,
     "solution": false
    }
   },
   "outputs": [],
   "source": [
    "smolt = pd.read_csv('data/smolts.csv', index_col=  0)"
   ]
  },
  {
   "cell_type": "code",
   "execution_count": 28,
   "metadata": {
    "nbgrader": {
     "grade": false,
     "grade_id": "cell-816863c823592a27",
     "locked": true,
     "schema_version": 1,
     "solution": false
    }
   },
   "outputs": [
    {
     "data": {
      "text/html": [
       "<div>\n",
       "<style scoped>\n",
       "    .dataframe tbody tr th:only-of-type {\n",
       "        vertical-align: middle;\n",
       "    }\n",
       "\n",
       "    .dataframe tbody tr th {\n",
       "        vertical-align: top;\n",
       "    }\n",
       "\n",
       "    .dataframe thead th {\n",
       "        text-align: right;\n",
       "    }\n",
       "</style>\n",
       "<table border=\"1\" class=\"dataframe\">\n",
       "  <thead>\n",
       "    <tr style=\"text-align: right;\">\n",
       "      <th></th>\n",
       "      <th>Reflectance</th>\n",
       "    </tr>\n",
       "    <tr>\n",
       "      <th>ID</th>\n",
       "      <th></th>\n",
       "    </tr>\n",
       "  </thead>\n",
       "  <tbody>\n",
       "    <tr>\n",
       "      <th>1</th>\n",
       "      <td>57.62747</td>\n",
       "    </tr>\n",
       "    <tr>\n",
       "      <th>2</th>\n",
       "      <td>54.83248</td>\n",
       "    </tr>\n",
       "    <tr>\n",
       "      <th>3</th>\n",
       "      <td>63.44216</td>\n",
       "    </tr>\n",
       "    <tr>\n",
       "      <th>4</th>\n",
       "      <td>57.01707</td>\n",
       "    </tr>\n",
       "    <tr>\n",
       "      <th>5</th>\n",
       "      <td>54.71893</td>\n",
       "    </tr>\n",
       "  </tbody>\n",
       "</table>\n",
       "</div>"
      ],
      "text/plain": [
       "    Reflectance\n",
       "ID             \n",
       "1      57.62747\n",
       "2      54.83248\n",
       "3      63.44216\n",
       "4      57.01707\n",
       "5      54.71893"
      ]
     },
     "execution_count": 28,
     "metadata": {},
     "output_type": "execute_result"
    }
   ],
   "source": [
    "smolt.head()"
   ]
  },
  {
   "cell_type": "markdown",
   "metadata": {
    "nbgrader": {
     "grade": false,
     "grade_id": "cell-f54e6eff6b6f3732",
     "locked": true,
     "schema_version": 1,
     "solution": false
    }
   },
   "source": [
    "[Back to top](#Index:) \n",
    "\n",
    "### Problem 12: Measure of Center\n",
    "\n",
    "**2 Points**\n",
    "\n",
    "\n",
    "Determine the mean and median of the `Reflectance` column, save these to the variable `smolt_mean` and `smolt_median` below.  Which of the measures do you believe more appropriate?"
   ]
  },
  {
   "cell_type": "code",
   "execution_count": 29,
   "metadata": {
    "nbgrader": {
     "grade": false,
     "grade_id": "cell-85dd0d5626022c31",
     "locked": false,
     "schema_version": 1,
     "solution": true
    }
   },
   "outputs": [],
   "source": [
    "###GRADED\n",
    "\n",
    "smolt_mean = ''\n",
    "smolt_median = ''\n",
    "\n",
    "###BEGIN SOLUTION\n",
    "smolt_mean = smolt['Reflectance'].mean()\n",
    "smolt_median = smolt['Reflectance'].median()\n",
    "###END SOLUTION"
   ]
  },
  {
   "cell_type": "code",
   "execution_count": 30,
   "metadata": {
    "nbgrader": {
     "grade": true,
     "grade_id": "cell-a1c3bc9c23f0fad5",
     "locked": true,
     "points": 2,
     "schema_version": 1,
     "solution": false
    }
   },
   "outputs": [],
   "source": [
    "###BEGIN HIDDEN TESTS\n",
    "smolt_ = pd.read_csv('data/smolts.csv', index_col=  0)\n",
    "smolt_mean_ = smolt_['Reflectance'].mean()\n",
    "smolt_median_ = smolt_['Reflectance'].median()\n",
    "\n",
    "assert smolt_mean == smolt_mean_\n",
    "assert smolt_median == smolt_median_\n",
    "###END HIDDEN TESTS"
   ]
  },
  {
   "cell_type": "markdown",
   "metadata": {
    "nbgrader": {
     "grade": false,
     "grade_id": "cell-5436ad9106dc3067",
     "locked": true,
     "schema_version": 1,
     "solution": false
    }
   },
   "source": [
    "[Back to top](#Index:) \n",
    "\n",
    "### Problem 13: Measure of Spread\n",
    "\n",
    "**2 Points**\n",
    "\n",
    "Compute the standard deviation and the quartiles of the `Reflectance` column using pandas. Save your results to `smolt_std`, `smolt_first_quartile` and `smolt_third_quartile` below.  Which of these do you prefer for describing the spread of the data?  "
   ]
  },
  {
   "cell_type": "code",
   "execution_count": 31,
   "metadata": {
    "nbgrader": {
     "grade": false,
     "grade_id": "cell-75e152884ddedc1f",
     "locked": false,
     "schema_version": 1,
     "solution": true
    }
   },
   "outputs": [],
   "source": [
    "###GRADED\n",
    "\n",
    "smolt_std = ''\n",
    "smolt_first_quartile = ''\n",
    "smolt_third_quartile = ''\n",
    "\n",
    "###BEGIN SOLUTION\n",
    "smolt_std = smolt['Reflectance'].std()\n",
    "smolt_first_quartile = smolt['Reflectance'].quantile(.25)\n",
    "smolt_third_quartile = smolt['Reflectance'].quantile(.75)\n",
    "###END SOLUTION"
   ]
  },
  {
   "cell_type": "code",
   "execution_count": 32,
   "metadata": {
    "nbgrader": {
     "grade": true,
     "grade_id": "cell-1242564880582fda",
     "locked": true,
     "points": 2,
     "schema_version": 1,
     "solution": false
    }
   },
   "outputs": [],
   "source": [
    "###BEGIN HIDDEN TESTS\n",
    "smolt_std_ = smolt_['Reflectance'].std()\n",
    "smolt_first_quartile_ = smolt_['Reflectance'].quantile(.25)\n",
    "smolt_third_quartile_ = smolt_['Reflectance'].quantile(.75)\n",
    "assert smolt_std == smolt_std_\n",
    "assert smolt_first_quartile == smolt_first_quartile_\n",
    "assert smolt_third_quartile == smolt_third_quartile_\n",
    "###END HIDDEN TESTS"
   ]
  }
 ],
 "metadata": {
  "celltoolbar": "Create Assignment",
  "kernelspec": {
   "display_name": "Python 3 (ipykernel)",
   "language": "python",
   "name": "python3"
  },
  "language_info": {
   "codemirror_mode": {
    "name": "ipython",
    "version": 3
   },
   "file_extension": ".py",
   "mimetype": "text/x-python",
   "name": "python",
   "nbconvert_exporter": "python",
   "pygments_lexer": "ipython3",
   "version": "3.11.7"
  },
  "widgets": {
   "application/vnd.jupyter.widget-state+json": {
    "state": {},
    "version_major": 2,
    "version_minor": 0
   }
  }
 },
 "nbformat": 4,
 "nbformat_minor": 4
}
