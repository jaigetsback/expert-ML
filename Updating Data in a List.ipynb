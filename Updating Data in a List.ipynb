{
 "cells": [
  {
   "cell_type": "markdown",
   "metadata": {},
   "source": [
    "# Outline\n",
    "- Adding data to a list\n",
    "- Deleting data from a list\n",
    "- Replacing data in a list"
   ]
  },
  {
   "cell_type": "markdown",
   "metadata": {},
   "source": [
    "# Adding data to a list"
   ]
  },
  {
   "cell_type": "code",
   "execution_count": 1,
   "metadata": {},
   "outputs": [],
   "source": [
    "# List of lists which include the date, temperature, and whether you were in a positive mood\n",
    "dec_temperatures_mood = [[\"Dec 10\",20, True], [\"Dec 11\", 22, True], [\"Dec 12\", 21, True], [\"Dec 13\", 19, False], [\"Dec 14\", 13, False], [\"Dec 15\", 21, True]]"
   ]
  },
  {
   "cell_type": "code",
   "execution_count": 2,
   "metadata": {},
   "outputs": [
    {
     "data": {
      "text/plain": [
       "[['Dec 10', 20, True],\n",
       " ['Dec 11', 22, True],\n",
       " ['Dec 12', 21, True],\n",
       " ['Dec 13', 19, False],\n",
       " ['Dec 14', 13, False],\n",
       " ['Dec 15', 21, True],\n",
       " ['Dec 16', 18, False]]"
      ]
     },
     "execution_count": 2,
     "metadata": {},
     "output_type": "execute_result"
    }
   ],
   "source": [
    "dec_temperatures_mood + [['Dec 16', 18, False]]"
   ]
  },
  {
   "cell_type": "code",
   "execution_count": 3,
   "metadata": {},
   "outputs": [
    {
     "data": {
      "text/plain": [
       "[['Dec 10', 20, True],\n",
       " ['Dec 11', 22, True],\n",
       " ['Dec 12', 21, True],\n",
       " ['Dec 13', 19, False],\n",
       " ['Dec 14', 13, False],\n",
       " ['Dec 15', 21, True],\n",
       " 'Dec 16',\n",
       " 18,\n",
       " False]"
      ]
     },
     "execution_count": 3,
     "metadata": {},
     "output_type": "execute_result"
    }
   ],
   "source": [
    "# Notice that above we used [[]] because were were adding a list data type to the list. \n",
    "# What if we just used single brackets? What do you think would happen?\n",
    "\n",
    "dec_temperatures_mood + ['Dec 16', 18, False]"
   ]
  },
  {
   "cell_type": "code",
   "execution_count": 4,
   "metadata": {},
   "outputs": [
    {
     "name": "stdout",
     "output_type": "stream",
     "text": [
      "[['Dec 10', 20, True], ['Dec 11', 22, True], ['Dec 12', 21, True], ['Dec 13', 19, False], ['Dec 14', 13, False], ['Dec 15', 21, True]]\n"
     ]
    }
   ],
   "source": [
    "print(dec_temperatures_mood)"
   ]
  },
  {
   "cell_type": "code",
   "execution_count": 5,
   "metadata": {},
   "outputs": [],
   "source": [
    "# Save the list with the updated data\n",
    "dec_temperatures_mood = dec_temperatures_mood + [['Dec 16', 18, False]]"
   ]
  },
  {
   "cell_type": "code",
   "execution_count": 8,
   "metadata": {},
   "outputs": [
    {
     "name": "stdout",
     "output_type": "stream",
     "text": [
      "[['Dec 10', 20, True], ['Dec 11', 22, True], ['Dec 12', 21, True], ['Dec 13', 19, False], ['Dec 14', 13, False], ['Dec 15', 21, True], ['Dec 16', 18, False]]\n"
     ]
    }
   ],
   "source": [
    "#Print the new list to confirm that the data was added\n",
    "print(dec_temperatures_mood[0:])"
   ]
  },
  {
   "cell_type": "markdown",
   "metadata": {},
   "source": [
    "# Deleting data from a list"
   ]
  },
  {
   "cell_type": "code",
   "execution_count": 11,
   "metadata": {},
   "outputs": [
    {
     "name": "stdout",
     "output_type": "stream",
     "text": [
      "[['Dec 10', 20, True], ['Dec 11', 22, True], ['Dec 12', 21, True], ['Dec 13', 19, False], ['Dec 14', 13, False], ['Dec 16', 18, True]]\n"
     ]
    }
   ],
   "source": [
    "# Delete the last elememt\n",
    "del(dec_temperatures_mood[-1])\n",
    "\n",
    "#Replace it with ['Dec 16', 18, True]\n",
    "dec_temperatures_mood = dec_temperatures_mood + [['Dec 16', 18, True]]\n",
    "print (dec_temperatures_mood)"
   ]
  },
  {
   "cell_type": "markdown",
   "metadata": {},
   "source": [
    "# Replacing data in a list"
   ]
  },
  {
   "cell_type": "code",
   "execution_count": 13,
   "metadata": {},
   "outputs": [],
   "source": [
    "#Instead of deleting and replacing, update with subsetting\n",
    "dec_temperatures_mood[-1] = [['Dec 16', 20, True]]\n"
   ]
  },
  {
   "cell_type": "code",
   "execution_count": 14,
   "metadata": {},
   "outputs": [
    {
     "name": "stdout",
     "output_type": "stream",
     "text": [
      "[['Dec 10', 20, True], ['Dec 11', 22, True], ['Dec 12', 21, True], ['Dec 13', 19, False], ['Dec 14', 13, False], [['Dec 16', 20, True]]]\n"
     ]
    }
   ],
   "source": [
    "print (dec_temperatures_mood)"
   ]
  }
 ],
 "metadata": {
  "kernelspec": {
   "display_name": "Python 3 (ipykernel)",
   "language": "python",
   "name": "python3"
  },
  "language_info": {
   "codemirror_mode": {
    "name": "ipython",
    "version": 3
   },
   "file_extension": ".py",
   "mimetype": "text/x-python",
   "name": "python",
   "nbconvert_exporter": "python",
   "pygments_lexer": "ipython3",
   "version": "3.11.7"
  }
 },
 "nbformat": 4,
 "nbformat_minor": 4
}
