{
 "cells": [
  {
   "cell_type": "markdown",
   "metadata": {
    "id": "Kqx7pJHLhvaC",
    "nbgrader": {
     "grade": false,
     "grade_id": "cell-302a52e8f6d756f3",
     "locked": true,
     "schema_version": 1,
     "solution": false
    }
   },
   "source": [
    "## Codio Activity 2.6: Computing the Sample Covariance Matrix\n",
    "\n",
    "**Expected Time: 45 Minutes**\n",
    "\n",
    "**Total Points: 20**\n",
    "\n",
    "This activity focuses on using covariance and correlation to understand the strength of relationships between two quantitative variables.  Also, you will use a heatmap to visualize these relationships.  Finally, you identify situations where correlation is not an appropriate measure based on the assumption of a linear variable.\n",
    "\n",
    "## Index:\n",
    "\n",
    "- [Problem 1](#Problem-1:-Calculating-Covariance)\n",
    "- [Problem 2](#Problem-2:-Calculating-Correlation)\n",
    "- [Problem 3](#Problem-3:-Heatmap-of-Covariance)\n",
    "- [Problem 4](#Problem-4:-Heatmap-of-Correlation)\n",
    "- [Problem 5](#Problem-5:-Strongest-Positive-Correlation)\n",
    "- [Problem 6](#Problem-6:-Interpreting-negative-correlation)\n"
   ]
  },
  {
   "cell_type": "markdown",
   "metadata": {
    "id": "l9z47r1lhvaH",
    "nbgrader": {
     "grade": false,
     "grade_id": "cell-3acee1f49e22aae2",
     "locked": true,
     "schema_version": 1,
     "solution": false
    }
   },
   "source": [
    "### Covariance and Correlation\n",
    "\n",
    "In probability theory and statistics, the mathematical concepts of covariance and correlation are very similar. Both describe the degree to which two random variables or sets of random variables tend to deviate from their expected values in similar ways.\n",
    "\n",
    "If X and Y are two random variables, with means (expected values)  $\\mu_X$ and  $\\mu_Y$ and standard deviations  $σ_X$ and  $σ_Y$, respectively, then their covariance and correlation are as follows:\n",
    "\n",
    "covariance $$\\text{cov}_{XY}=\\sigma_{XY}=E[(X-\\mu_{X})\\,(Y-\\mu_{Y})]$$\n",
    "\n",
    "correlation $$\\text{corr}_{XY} = \\rho_{XY} = E[(X - \\mu_X)(Y - \\mu_Y)]/(\\sigma_X \\sigma_Y)$$\n",
    "\n",
    "so that\n",
    "\n",
    "$$\\rho_{XY}=\\sigma_{XY}/(\\sigma_{X} \\sigma_{Y})$$\n",
    "\n",
    "\n",
    "where E is the expected value operator. Notably, correlation is dimensionless while covariance is in units obtained by multiplying the units of the two variables. --[source](https://en.wikipedia.org/wiki/Covariance_and_correlation)"
   ]
  },
  {
   "cell_type": "markdown",
   "metadata": {
    "id": "Rl-SaVUwhvaI",
    "nbgrader": {
     "grade": false,
     "grade_id": "cell-ff8d09601d4e1147",
     "locked": true,
     "schema_version": 1,
     "solution": false
    }
   },
   "source": [
    "#### Dataset: Penguins\n",
    "\n",
    "Our sample dataset comes from the `seaborn` visualization library and contains measurements of penguins of different species located on different islands.  Below, we load the data and display the first few rows and datatype information."
   ]
  },
  {
   "cell_type": "code",
   "execution_count": 2,
   "metadata": {
    "id": "ICY5x1_qhvaI",
    "nbgrader": {
     "grade": false,
     "grade_id": "cell-22c2863c72d368d1",
     "locked": true,
     "schema_version": 1,
     "solution": false
    }
   },
   "outputs": [],
   "source": [
    "import matplotlib.pyplot as plt\n",
    "import numpy as np\n",
    "import pandas as pd\n",
    "import seaborn as sns"
   ]
  },
  {
   "cell_type": "code",
   "execution_count": 5,
   "metadata": {
    "id": "LfzSGbrohvaK",
    "nbgrader": {
     "grade": false,
     "grade_id": "cell-35c0f58b386b983a",
     "locked": true,
     "schema_version": 1,
     "solution": false
    }
   },
   "outputs": [],
   "source": [
    "penguin_df = pd.read_csv('/Users/jaikumar/Desktop/Berkeley_ML/DataSets_starter1/penguins.csv')\n",
    "penguin_df = penguin_df[['bill_length_mm' ,'bill_depth_mm' ,'flipper_length_mm' ,'body_mass_g']]"
   ]
  },
  {
   "cell_type": "code",
   "execution_count": 6,
   "metadata": {
    "id": "vZGUow_nhvaK",
    "nbgrader": {
     "grade": false,
     "grade_id": "cell-77ba500819145fd2",
     "locked": true,
     "schema_version": 1,
     "solution": false
    },
    "outputId": "2c17685e-845a-4368-b05b-c5e96ace5ab6"
   },
   "outputs": [
    {
     "name": "stdout",
     "output_type": "stream",
     "text": [
      "<class 'pandas.core.frame.DataFrame'>\n",
      "RangeIndex: 342 entries, 0 to 341\n",
      "Data columns (total 4 columns):\n",
      " #   Column             Non-Null Count  Dtype  \n",
      "---  ------             --------------  -----  \n",
      " 0   bill_length_mm     342 non-null    float64\n",
      " 1   bill_depth_mm      342 non-null    float64\n",
      " 2   flipper_length_mm  342 non-null    float64\n",
      " 3   body_mass_g        342 non-null    float64\n",
      "dtypes: float64(4)\n",
      "memory usage: 10.8 KB\n"
     ]
    }
   ],
   "source": [
    "penguin_df.info()"
   ]
  },
  {
   "cell_type": "code",
   "execution_count": 7,
   "metadata": {
    "id": "bOgJSICLhvaL",
    "nbgrader": {
     "grade": false,
     "grade_id": "cell-66118f7ad0e53fd9",
     "locked": true,
     "schema_version": 1,
     "solution": false
    },
    "outputId": "ae7fb7e0-c218-4391-fc90-2aede7b3bbb0"
   },
   "outputs": [
    {
     "data": {
      "text/html": [
       "<div>\n",
       "<style scoped>\n",
       "    .dataframe tbody tr th:only-of-type {\n",
       "        vertical-align: middle;\n",
       "    }\n",
       "\n",
       "    .dataframe tbody tr th {\n",
       "        vertical-align: top;\n",
       "    }\n",
       "\n",
       "    .dataframe thead th {\n",
       "        text-align: right;\n",
       "    }\n",
       "</style>\n",
       "<table border=\"1\" class=\"dataframe\">\n",
       "  <thead>\n",
       "    <tr style=\"text-align: right;\">\n",
       "      <th></th>\n",
       "      <th>bill_length_mm</th>\n",
       "      <th>bill_depth_mm</th>\n",
       "      <th>flipper_length_mm</th>\n",
       "      <th>body_mass_g</th>\n",
       "    </tr>\n",
       "  </thead>\n",
       "  <tbody>\n",
       "    <tr>\n",
       "      <th>0</th>\n",
       "      <td>39.1</td>\n",
       "      <td>18.7</td>\n",
       "      <td>181.0</td>\n",
       "      <td>3750.0</td>\n",
       "    </tr>\n",
       "    <tr>\n",
       "      <th>1</th>\n",
       "      <td>39.5</td>\n",
       "      <td>17.4</td>\n",
       "      <td>186.0</td>\n",
       "      <td>3800.0</td>\n",
       "    </tr>\n",
       "    <tr>\n",
       "      <th>2</th>\n",
       "      <td>40.3</td>\n",
       "      <td>18.0</td>\n",
       "      <td>195.0</td>\n",
       "      <td>3250.0</td>\n",
       "    </tr>\n",
       "    <tr>\n",
       "      <th>3</th>\n",
       "      <td>36.7</td>\n",
       "      <td>19.3</td>\n",
       "      <td>193.0</td>\n",
       "      <td>3450.0</td>\n",
       "    </tr>\n",
       "    <tr>\n",
       "      <th>4</th>\n",
       "      <td>39.3</td>\n",
       "      <td>20.6</td>\n",
       "      <td>190.0</td>\n",
       "      <td>3650.0</td>\n",
       "    </tr>\n",
       "  </tbody>\n",
       "</table>\n",
       "</div>"
      ],
      "text/plain": [
       "   bill_length_mm  bill_depth_mm  flipper_length_mm  body_mass_g\n",
       "0            39.1           18.7              181.0       3750.0\n",
       "1            39.5           17.4              186.0       3800.0\n",
       "2            40.3           18.0              195.0       3250.0\n",
       "3            36.7           19.3              193.0       3450.0\n",
       "4            39.3           20.6              190.0       3650.0"
      ]
     },
     "execution_count": 7,
     "metadata": {},
     "output_type": "execute_result"
    }
   ],
   "source": [
    "penguin_df.head()"
   ]
  },
  {
   "cell_type": "markdown",
   "metadata": {
    "id": "RMaHgw4PhvaM",
    "nbgrader": {
     "grade": false,
     "grade_id": "cell-7800422f2a4ee275",
     "locked": true,
     "schema_version": 1,
     "solution": false
    }
   },
   "source": [
    "[Back to top](#Index:) \n",
    "\n",
    "### Problem 1: Calculating Covariance\n",
    "\n",
    "**4 Points**\n",
    "\n",
    "Pandas DataFrame's have a built in `.cov()` method that will return the covariation between each of the numeric features.  Use the `.cov()` method below to create the covariance matrix.  Assign your solution to the variable `penguins_cov` below."
   ]
  },
  {
   "cell_type": "code",
   "execution_count": 8,
   "metadata": {
    "id": "y6WXtDj-hvaN",
    "nbgrader": {
     "grade": false,
     "grade_id": "cell-cb793d1142c2d0b8",
     "locked": false,
     "schema_version": 1,
     "solution": true
    }
   },
   "outputs": [
    {
     "name": "stdout",
     "output_type": "stream",
     "text": [
      "                   bill_length_mm  bill_depth_mm  flipper_length_mm  \\\n",
      "bill_length_mm          29.807054      -2.534234          50.375765   \n",
      "bill_depth_mm           -2.534234       3.899808         -16.212950   \n",
      "flipper_length_mm       50.375765     -16.212950         197.731792   \n",
      "body_mass_g           2605.591912    -747.370093        9824.416062   \n",
      "\n",
      "                     body_mass_g  \n",
      "bill_length_mm       2605.591912  \n",
      "bill_depth_mm        -747.370093  \n",
      "flipper_length_mm    9824.416062  \n",
      "body_mass_g        643131.077327  \n"
     ]
    }
   ],
   "source": [
    "### GRADED\n",
    "\n",
    "penguins_cov = ''\n",
    "\n",
    "### BEGIN SOLUTION\n",
    "penguins_cov = penguin_df.cov()\n",
    "print (penguins_cov)\n",
    "### END SOLUTION"
   ]
  },
  {
   "cell_type": "code",
   "execution_count": 9,
   "metadata": {},
   "outputs": [
    {
     "data": {
      "image/png": "[encoded data removed]",
      "text/plain": [
       "<Figure size 640x480 with 2 Axes>"
      ]
     },
     "metadata": {},
     "output_type": "display_data"
    }
   ],
   "source": [
    "sns.heatmap(penguins_cov, annot=True)\n",
    "plt.show()"
   ]
  },
  {
   "cell_type": "markdown",
   "metadata": {
    "id": "x3rKR7cjhvaO",
    "nbgrader": {
     "grade": false,
     "grade_id": "cell-dfac43f0b33eedc9",
     "locked": true,
     "schema_version": 1,
     "solution": false
    }
   },
   "source": [
    "[Back to top](#Index:) \n",
    "\n",
    "### Problem 2: Calculating Correlation\n",
    "\n",
    "**4 Points**\n",
    "\n",
    "Similarly, pandas DataFrames have a built in `.corr()` method that computes the correlation matrix of the numeric columns.  Below, use the `.corr()` method on the `penguins_df` and assign your results to the variable `penguin_corr` below."
   ]
  },
  {
   "cell_type": "code",
   "execution_count": 13,
   "metadata": {
    "id": "qkiYrUl2hvaP",
    "nbgrader": {
     "grade": false,
     "grade_id": "cell-bdd62ffdd36dbed4",
     "locked": false,
     "schema_version": 1,
     "solution": true
    }
   },
   "outputs": [
    {
     "name": "stdout",
     "output_type": "stream",
     "text": [
      "                   bill_length_mm  bill_depth_mm  flipper_length_mm  \\\n",
      "bill_length_mm           1.000000      -0.235053           0.656181   \n",
      "bill_depth_mm           -0.235053       1.000000          -0.583851   \n",
      "flipper_length_mm        0.656181      -0.583851           1.000000   \n",
      "body_mass_g              0.595110      -0.471916           0.871202   \n",
      "\n",
      "                   body_mass_g  \n",
      "bill_length_mm        0.595110  \n",
      "bill_depth_mm        -0.471916  \n",
      "flipper_length_mm     0.871202  \n",
      "body_mass_g           1.000000  \n"
     ]
    }
   ],
   "source": [
    "### GRADED\n",
    "\n",
    "penguins_corr = ''\n",
    "\n",
    "### BEGIN SOLUTION\n",
    "penguins_corr = penguin_df.corr()\n",
    "print (penguins_corr)\n",
    "### END SOLUTION"
   ]
  },
  {
   "cell_type": "code",
   "execution_count": 12,
   "metadata": {},
   "outputs": [
    {
     "data": {
      "image/png": "[encoded data removed]",
      "text/plain": [
       "<Figure size 640x480 with 2 Axes>"
      ]
     },
     "metadata": {},
     "output_type": "display_data"
    }
   ],
   "source": [
    "sns.heatmap(penguins_corr, annot=True)\n",
    "plt.show()"
   ]
  },
  {
   "cell_type": "code",
   "execution_count": null,
   "metadata": {
    "id": "US5BsM65hvaP",
    "nbgrader": {
     "grade": true,
     "grade_id": "cell-9e1459665935d821",
     "locked": true,
     "points": 4,
     "schema_version": 1,
     "solution": false
    }
   },
   "outputs": [],
   "source": [
    "### BEGIN HIDDEN TESTS\n",
    "penguin_df_ = pd.read_csv('data/penguins.csv')\n",
    "penguins_corr_ = penguin_df_.corr()\n",
    "pd.testing.assert_frame_equal(penguins_corr, penguins_corr_)\n",
    "### END HIDDEN TESTS"
   ]
  },
  {
   "cell_type": "markdown",
   "metadata": {
    "id": "WiriMMcZhvaQ",
    "nbgrader": {
     "grade": false,
     "grade_id": "cell-59c5ea8d98334a08",
     "locked": true,
     "schema_version": 1,
     "solution": false
    }
   },
   "source": [
    "[Back to top](#Index:) \n",
    "\n",
    "### Problem 3: Heatmap of Covariance\n",
    "\n",
    "**0 Points**\n",
    "\n",
    "The covariance matrix can be visualized to color according to the strength of associations.  While `matplotlib` has a `.pcolor()` function that can do this, the `seaborn` heatmap is better suited for this visualization.  Use the `sns.heatmap()` function to visualize the covariance matrix.  Set the `annot` keyword argument to `True` so that the covariance values are displayed in the heatmap."
   ]
  },
  {
   "cell_type": "code",
   "execution_count": null,
   "metadata": {
    "id": "S4DhTtkqhvaQ",
    "nbgrader": {
     "grade": false,
     "grade_id": "cell-3a797a4238076ff2",
     "locked": false,
     "schema_version": 1,
     "solution": true
    }
   },
   "outputs": [],
   "source": [
    "### GRADED\n",
    "\n",
    "### BEGIN SOLUTION\n",
    "pass\n",
    "### END SOLUTION"
   ]
  },
  {
   "cell_type": "code",
   "execution_count": null,
   "metadata": {
    "id": "Hi8FkxrthvaR",
    "nbgrader": {
     "grade": true,
     "grade_id": "cell-c070e03d523c773a",
     "locked": true,
     "points": 0,
     "schema_version": 1,
     "solution": false
    }
   },
   "outputs": [],
   "source": [
    "### BEGIN HIDDEN TESTS\n",
    "assert 1 == 1\n",
    "### END HIDDEN TESTS"
   ]
  },
  {
   "cell_type": "markdown",
   "metadata": {
    "id": "TD1SyDe5hvaR",
    "nbgrader": {
     "grade": false,
     "grade_id": "cell-d86b2d81f6c1d624",
     "locked": true,
     "schema_version": 1,
     "solution": false
    }
   },
   "source": [
    "[Back to top](#Index:) \n",
    "\n",
    "### Problem 4: Heatmap of Correlation\n",
    "\n",
    "**0 Points**\n",
    "\n",
    "Again using `sns.heatmap()`, visualize the correlation matrix for the penguins data.  Set the `annot` argument to `True` again."
   ]
  },
  {
   "cell_type": "code",
   "execution_count": null,
   "metadata": {
    "nbgrader": {
     "grade": false,
     "grade_id": "cell-382d431a32a827d7",
     "locked": false,
     "schema_version": 1,
     "solution": true
    }
   },
   "outputs": [],
   "source": [
    "### GRADED\n",
    "\n",
    "### BEGIN SOLUTION\n",
    "pass\n",
    "### END SOLUTION"
   ]
  },
  {
   "cell_type": "code",
   "execution_count": 1,
   "metadata": {
    "nbgrader": {
     "grade": true,
     "grade_id": "cell-fca610fa8f05bb27",
     "locked": true,
     "points": 0,
     "schema_version": 1,
     "solution": false
    }
   },
   "outputs": [],
   "source": [
    "### BEGIN HIDDEN TESTS\n",
    "assert 1 == 1, 'This is not graded.'\n",
    "### END HIDDEN TESTS"
   ]
  },
  {
   "cell_type": "markdown",
   "metadata": {
    "id": "GsNS59XRhvaS",
    "nbgrader": {
     "grade": false,
     "grade_id": "cell-f5a7bff3040e7739",
     "locked": true,
     "schema_version": 1,
     "solution": false
    }
   },
   "source": [
    "[Back to top](#Index:) \n",
    "\n",
    "### Problem 5: Strongest Positive Correlation\n",
    "\n",
    "**8 Points**\n",
    "\n",
    "What two features have the strongest positive correlation?  Enter your answer as a list of strings using the exact column names to `highest_pos_corr` below."
   ]
  },
  {
   "cell_type": "code",
   "execution_count": null,
   "metadata": {
    "id": "GeicRslVhvaS",
    "nbgrader": {
     "grade": false,
     "grade_id": "cell-c1c0856c81e9ba49",
     "locked": false,
     "schema_version": 1,
     "solution": true
    }
   },
   "outputs": [],
   "source": [
    "### GRADED\n",
    "\n",
    "highest_pos_corr = ''\n",
    "\n",
    "### BEGIN SOLUTION\n",
    "highest_pos_corr = ['body_mass_g', 'flipper_length_mm']\n",
    "### END SOLUTION"
   ]
  },
  {
   "cell_type": "code",
   "execution_count": null,
   "metadata": {
    "id": "BVGZqSH5hvaS",
    "nbgrader": {
     "grade": true,
     "grade_id": "cell-147fd8a9ba9c4d9b",
     "locked": true,
     "points": 8,
     "schema_version": 1,
     "solution": false
    }
   },
   "outputs": [],
   "source": [
    "### BEGIN HIDDEN TESTS\n",
    "highest_pos_corr_ = ['body_mass_g', 'flipper_length_mm']\n",
    "assert set(highest_pos_corr_) == set(highest_pos_corr)\n",
    "### END HIDDEN TESTS"
   ]
  },
  {
   "cell_type": "markdown",
   "metadata": {
    "id": "lNLd1vRQhvaS",
    "nbgrader": {
     "grade": false,
     "grade_id": "cell-c60bb7631491a180",
     "locked": true,
     "schema_version": 1,
     "solution": false
    }
   },
   "source": [
    "[Back to top](#Index:) \n",
    "\n",
    "### Problem 6: Interpreting negative correlation\n",
    "\n",
    "**4 Points**\n",
    "\n",
    "The correlation between `body_mass_g` and `bill_depth_mm` reads -0.47.  Complete the following sentence that interprets this correlation.\n",
    "\n",
    "```\n",
    "As body mass increases bill depth ___________\n",
    "```\n",
    "\n",
    "Assign your solution as a string -- either 'increases', 'decreases', or 'neither' to `ans_6` below."
   ]
  },
  {
   "cell_type": "code",
   "execution_count": null,
   "metadata": {
    "id": "tJEG3IpdhvaT",
    "nbgrader": {
     "grade": false,
     "grade_id": "cell-b68d1118f1213e2a",
     "locked": false,
     "schema_version": 1,
     "solution": true
    }
   },
   "outputs": [],
   "source": [
    "### GRADED\n",
    "\n",
    "ans_6 = ''\n",
    "\n",
    "### BEGIN SOLUTION\n",
    "ans_6 = 'decreases'\n",
    "### END SOLUTION"
   ]
  },
  {
   "cell_type": "code",
   "execution_count": null,
   "metadata": {
    "id": "hOeX6O4thvaT",
    "nbgrader": {
     "grade": true,
     "grade_id": "cell-64112c10a27b811b",
     "locked": true,
     "points": 4,
     "schema_version": 1,
     "solution": false
    }
   },
   "outputs": [],
   "source": [
    "### BEGIN HIDDEN TESTS\n",
    "ans_6_ = 'decreases'\n",
    "assert ans_6 == ans_6_\n",
    "### END HIDDEN TESTS"
   ]
  }
 ],
 "metadata": {
  "celltoolbar": "Create Assignment",
  "colab": {
   "name": "coding_activity_2-6.ipynb",
   "provenance": []
  },
  "kernelspec": {
   "display_name": "Python 3 (ipykernel)",
   "language": "python",
   "name": "python3"
  },
  "language_info": {
   "codemirror_mode": {
    "name": "ipython",
    "version": 3
   },
   "file_extension": ".py",
   "mimetype": "text/x-python",
   "name": "python",
   "nbconvert_exporter": "python",
   "pygments_lexer": "ipython3",
   "version": "3.11.7"
  }
 },
 "nbformat": 4,
 "nbformat_minor": 4
}
